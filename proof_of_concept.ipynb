{
 "cells": [
  {
   "cell_type": "markdown",
   "metadata": {},
   "source": [
    "# ROADMAP\n",
    "1. Import HI3 Builds Dataset `HI3_Data.xlsx`\n",
    "2. View statistics on the equipped stigmas (weapons are usually unique to each character) (e.g., most used stigma, least used, etc)\n",
    "3. Convert Excel dataset to NumPy array and filter out unnecessary information (e.g., name, battlesuit date released)\n",
    "   1. Make a PyTorch Dataset (`torch.utils.data.Dataset`) class to do this, using the link to parse without overloading memory\n",
    "      1. You will split the datasets into training and testing respectively\n",
    "   2. Make a PyTorch Dataloader (`torch.utils.data.DataLoader`) to do this, it will be split for you via batches\n",
    "4. Define the AI model and make it trainable on the # of features/classes we have\n",
    "   1. Define the training loop\n",
    "5. Validate the model by using the testing dataset (X_test, y_test)\n",
    "6. Make a prediction with a new character"
   ]
  },
  {
   "cell_type": "markdown",
   "metadata": {},
   "source": [
    "**TODO** look at t-test and chi-square test"
   ]
  },
  {
   "cell_type": "markdown",
   "metadata": {},
   "source": [
    "Goal: Given every feature in the Excel spreadsheet, have a model predict the appropriate weapon and stigma"
   ]
  },
  {
   "cell_type": "markdown",
   "metadata": {},
   "source": [
    "## 0. Setup"
   ]
  },
  {
   "cell_type": "code",
   "execution_count": 1,
   "metadata": {
    "ExecuteTime": {
     "end_time": "2025-01-09T01:03:03.223652Z",
     "start_time": "2025-01-09T01:03:00.462347Z"
    }
   },
   "outputs": [],
   "source": [
    "# install openpyxl\n",
    "import torch\n",
    "import numpy as np\n",
    "import pandas as pd\n",
    "import matplotlib.pyplot as plt\n",
    "from torch import nn\n",
    "from tqdm.notebook import tqdm\n",
    "from sklearn.preprocessing import TargetEncoder\n",
    "from sklearn.model_selection import train_test_split\n",
    "from transformers import BertTokenizer, BertModel"
   ]
  },
  {
   "cell_type": "markdown",
   "metadata": {},
   "source": [
    "## 1. Import HI3 Builds Dataset @ `HI3_Data.xlsx`"
   ]
  },
  {
   "cell_type": "code",
   "execution_count": 2,
   "metadata": {
    "jupyter": {
     "is_executing": true
    }
   },
   "outputs": [],
   "source": [
    "device = \"cuda\" if torch.cuda.is_available() else \"cpu\""
   ]
  },
  {
   "cell_type": "code",
   "execution_count": 3,
   "metadata": {},
   "outputs": [
    {
     "data": {
      "text/html": [
       "<div>\n",
       "<style scoped>\n",
       "    .dataframe tbody tr th:only-of-type {\n",
       "        vertical-align: middle;\n",
       "    }\n",
       "\n",
       "    .dataframe tbody tr th {\n",
       "        vertical-align: top;\n",
       "    }\n",
       "\n",
       "    .dataframe thead th {\n",
       "        text-align: right;\n",
       "    }\n",
       "</style>\n",
       "<table border=\"1\" class=\"dataframe\">\n",
       "  <thead>\n",
       "    <tr style=\"text-align: right;\">\n",
       "      <th></th>\n",
       "      <th>Battlesuit</th>\n",
       "      <th>Release Date</th>\n",
       "      <th>Default Rank</th>\n",
       "      <th>Battlesuit Type</th>\n",
       "      <th>Damage Type</th>\n",
       "      <th>Optimal Role</th>\n",
       "      <th>Optimal Weapon</th>\n",
       "      <th>Stigma (T)</th>\n",
       "      <th>Stigma (M)</th>\n",
       "      <th>Stigma (B)</th>\n",
       "      <th>...</th>\n",
       "      <th>Wheel of Destiny Optimal Role</th>\n",
       "      <th>Leader Buff</th>\n",
       "      <th>Passive Buff</th>\n",
       "      <th>Evasion</th>\n",
       "      <th>Weapon Skills</th>\n",
       "      <th>Basic ATK</th>\n",
       "      <th>Ultimate</th>\n",
       "      <th>Special Attack</th>\n",
       "      <th>Astral Ring</th>\n",
       "      <th>SP</th>\n",
       "    </tr>\n",
       "  </thead>\n",
       "  <tbody>\n",
       "    <tr>\n",
       "      <th>0</th>\n",
       "      <td>Schicksal's Imperative</td>\n",
       "      <td>2024-09-05</td>\n",
       "      <td>S</td>\n",
       "      <td>Quantum</td>\n",
       "      <td>Lightning</td>\n",
       "      <td>DPS</td>\n",
       "      <td>Vacation Notice</td>\n",
       "      <td>Day After Day (T)</td>\n",
       "      <td>Day After Day (M)</td>\n",
       "      <td>Day After Day (B)</td>\n",
       "      <td>...</td>\n",
       "      <td>Support</td>\n",
       "      <td>Activates World Star and unlocks enhancements ...</td>\n",
       "      <td>Build up Stress during Don't Wanna Work and re...</td>\n",
       "      <td>Evade or jump to dodge enemy attacks. Can evad...</td>\n",
       "      <td>Attack together with puppets.\\nDuring Don't Wa...</td>\n",
       "      <td>Fight using the Request-Declining Blade that h...</td>\n",
       "      <td>Schicksal's Imperative falls asleep on the spo...</td>\n",
       "      <td>Fight using the Message-Blocking Swatter or Wo...</td>\n",
       "      <td>Unleash the power of Astral Ring to enhance th...</td>\n",
       "      <td>NaN</td>\n",
       "    </tr>\n",
       "    <tr>\n",
       "      <th>1</th>\n",
       "      <td>Deepspace Anchor: First Light</td>\n",
       "      <td>2024-02-29</td>\n",
       "      <td>S</td>\n",
       "      <td>Stardust</td>\n",
       "      <td>Lightning</td>\n",
       "      <td>DPS</td>\n",
       "      <td>Red Star Thunderbolt</td>\n",
       "      <td>Perfect Morning (T)</td>\n",
       "      <td>Perfect Morning (M)</td>\n",
       "      <td>Perfect Morning (B)</td>\n",
       "      <td>...</td>\n",
       "      <td>Support</td>\n",
       "      <td>Activate Astral Ring Specialization: World Sta...</td>\n",
       "      <td>Consume Thunderous Pulse to enter Thunderous B...</td>\n",
       "      <td>Evade or jump to dodge enemy attacks. Can evad...</td>\n",
       "      <td>Quickly approach the enemy via the drive core ...</td>\n",
       "      <td>Swing the drive core to damage enemies.\\nTap [...</td>\n",
       "      <td>Weaves the drive core between enemies before c...</td>\n",
       "      <td>Weaves the drive core between enemies before c...</td>\n",
       "      <td>Unleash Astral Ring's power and enhance the ch...</td>\n",
       "      <td>NaN</td>\n",
       "    </tr>\n",
       "    <tr>\n",
       "      <th>2</th>\n",
       "      <td>Valkyrie Boltstorm</td>\n",
       "      <td>2024-02-29</td>\n",
       "      <td>A</td>\n",
       "      <td>Mecha</td>\n",
       "      <td>Lightning</td>\n",
       "      <td>Support</td>\n",
       "      <td>Electrifying Arc</td>\n",
       "      <td>Von Neumann (T)</td>\n",
       "      <td>Von Neumann (M)</td>\n",
       "      <td>Von Neumann (B)</td>\n",
       "      <td>...</td>\n",
       "      <td>NaN</td>\n",
       "      <td>Activate Astral Ring Specialization: World Sta...</td>\n",
       "      <td>Gain Rapid Shot Energy.\\nRapid Shot Energy cap...</td>\n",
       "      <td>Evade or jump to dodge enemy attacks. Can evad...</td>\n",
       "      <td>Throw an explosive device at the enemy.\\nTap [...</td>\n",
       "      <td>Nimbly pummel the enemy.\\nTap [ATK] on the gro...</td>\n",
       "      <td>Detonate a deadly explosive device.\\nAfter usi...</td>\n",
       "      <td>A rapid onslaught of bolts.\\nWhen Valkyrie Bol...</td>\n",
       "      <td>Unleash Astral Ring's power to enhance the cha...</td>\n",
       "      <td>NaN</td>\n",
       "    </tr>\n",
       "    <tr>\n",
       "      <th>3</th>\n",
       "      <td>Mad Pleasure: Shadowbringer</td>\n",
       "      <td>2024-04-25</td>\n",
       "      <td>S</td>\n",
       "      <td>Mecha</td>\n",
       "      <td>Ice</td>\n",
       "      <td>Both</td>\n",
       "      <td>Banquet Rose</td>\n",
       "      <td>Splendors of Amber (T)</td>\n",
       "      <td>Splendors of Amber (M)</td>\n",
       "      <td>Splendors of Amber (B)</td>\n",
       "      <td>...</td>\n",
       "      <td>DPS</td>\n",
       "      <td>Activates Astral Ring Specialization: Wheel of...</td>\n",
       "      <td>Moment of Indulgence can be performed when Ban...</td>\n",
       "      <td>Evade or jump to dodge enemy attacks. On the g...</td>\n",
       "      <td>Swings the long chain to attack.\\nTap [Weapon]...</td>\n",
       "      <td>Fast attacks with two blades.\\nTap [ATK] on th...</td>\n",
       "      <td>Ravage enemies before finishing them off.\\nAft...</td>\n",
       "      <td>An attack that switches between ground and aer...</td>\n",
       "      <td>Unleashes Astral Ring's power and enhances the...</td>\n",
       "      <td>NaN</td>\n",
       "    </tr>\n",
       "    <tr>\n",
       "      <th>4</th>\n",
       "      <td>Lone Destruction: Shadowchaser</td>\n",
       "      <td>2024-06-06</td>\n",
       "      <td>S</td>\n",
       "      <td>Psychic</td>\n",
       "      <td>Fire</td>\n",
       "      <td>DPS</td>\n",
       "      <td>Burn the Long Night</td>\n",
       "      <td>Lantern Guardian (T)</td>\n",
       "      <td>Lantern Guardian (M)</td>\n",
       "      <td>Lantern Guardian (B)</td>\n",
       "      <td>...</td>\n",
       "      <td>DPS</td>\n",
       "      <td>Activates Wheel of Destiny and provides enhanc...</td>\n",
       "      <td>Consume ammo to refill Blast Energy.\\nThe char...</td>\n",
       "      <td>Evade or jump to dodge enemy attacks. Can evad...</td>\n",
       "      <td>Switch firearms.\\nTap [Weapon] to switch basic...</td>\n",
       "      <td>Attack with three basic firearms.\\nRapid-Shot ...</td>\n",
       "      <td>Go all out against the enemy with afterimages....</td>\n",
       "      <td>Launch a HE Round with a rocket launcher.\\nAt ...</td>\n",
       "      <td>Unleash Astral Ring's power to enhance the cha...</td>\n",
       "      <td>NaN</td>\n",
       "    </tr>\n",
       "  </tbody>\n",
       "</table>\n",
       "<p>5 rows × 24 columns</p>\n",
       "</div>"
      ],
      "text/plain": [
       "                       Battlesuit Release Date Default Rank Battlesuit Type  \\\n",
       "0          Schicksal's Imperative   2024-09-05            S         Quantum   \n",
       "1   Deepspace Anchor: First Light   2024-02-29            S        Stardust   \n",
       "2              Valkyrie Boltstorm   2024-02-29            A           Mecha   \n",
       "3     Mad Pleasure: Shadowbringer   2024-04-25            S           Mecha   \n",
       "4  Lone Destruction: Shadowchaser   2024-06-06            S         Psychic   \n",
       "\n",
       "  Damage Type Optimal Role        Optimal Weapon              Stigma (T)  \\\n",
       "0   Lightning          DPS       Vacation Notice       Day After Day (T)   \n",
       "1   Lightning          DPS  Red Star Thunderbolt     Perfect Morning (T)   \n",
       "2   Lightning      Support      Electrifying Arc         Von Neumann (T)   \n",
       "3         Ice         Both          Banquet Rose  Splendors of Amber (T)   \n",
       "4        Fire          DPS   Burn the Long Night    Lantern Guardian (T)   \n",
       "\n",
       "               Stigma (M)              Stigma (B)  ...  \\\n",
       "0       Day After Day (M)       Day After Day (B)  ...   \n",
       "1     Perfect Morning (M)     Perfect Morning (B)  ...   \n",
       "2         Von Neumann (M)         Von Neumann (B)  ...   \n",
       "3  Splendors of Amber (M)  Splendors of Amber (B)  ...   \n",
       "4    Lantern Guardian (M)    Lantern Guardian (B)  ...   \n",
       "\n",
       "  Wheel of Destiny Optimal Role  \\\n",
       "0                       Support   \n",
       "1                       Support   \n",
       "2                           NaN   \n",
       "3                           DPS   \n",
       "4                           DPS   \n",
       "\n",
       "                                         Leader Buff  \\\n",
       "0  Activates World Star and unlocks enhancements ...   \n",
       "1  Activate Astral Ring Specialization: World Sta...   \n",
       "2  Activate Astral Ring Specialization: World Sta...   \n",
       "3  Activates Astral Ring Specialization: Wheel of...   \n",
       "4  Activates Wheel of Destiny and provides enhanc...   \n",
       "\n",
       "                                        Passive Buff  \\\n",
       "0  Build up Stress during Don't Wanna Work and re...   \n",
       "1  Consume Thunderous Pulse to enter Thunderous B...   \n",
       "2  Gain Rapid Shot Energy.\\nRapid Shot Energy cap...   \n",
       "3  Moment of Indulgence can be performed when Ban...   \n",
       "4  Consume ammo to refill Blast Energy.\\nThe char...   \n",
       "\n",
       "                                             Evasion  \\\n",
       "0  Evade or jump to dodge enemy attacks. Can evad...   \n",
       "1  Evade or jump to dodge enemy attacks. Can evad...   \n",
       "2  Evade or jump to dodge enemy attacks. Can evad...   \n",
       "3  Evade or jump to dodge enemy attacks. On the g...   \n",
       "4  Evade or jump to dodge enemy attacks. Can evad...   \n",
       "\n",
       "                                       Weapon Skills  \\\n",
       "0  Attack together with puppets.\\nDuring Don't Wa...   \n",
       "1  Quickly approach the enemy via the drive core ...   \n",
       "2  Throw an explosive device at the enemy.\\nTap [...   \n",
       "3  Swings the long chain to attack.\\nTap [Weapon]...   \n",
       "4  Switch firearms.\\nTap [Weapon] to switch basic...   \n",
       "\n",
       "                                           Basic ATK  \\\n",
       "0  Fight using the Request-Declining Blade that h...   \n",
       "1  Swing the drive core to damage enemies.\\nTap [...   \n",
       "2  Nimbly pummel the enemy.\\nTap [ATK] on the gro...   \n",
       "3  Fast attacks with two blades.\\nTap [ATK] on th...   \n",
       "4  Attack with three basic firearms.\\nRapid-Shot ...   \n",
       "\n",
       "                                            Ultimate  \\\n",
       "0  Schicksal's Imperative falls asleep on the spo...   \n",
       "1  Weaves the drive core between enemies before c...   \n",
       "2  Detonate a deadly explosive device.\\nAfter usi...   \n",
       "3  Ravage enemies before finishing them off.\\nAft...   \n",
       "4  Go all out against the enemy with afterimages....   \n",
       "\n",
       "                                      Special Attack  \\\n",
       "0  Fight using the Message-Blocking Swatter or Wo...   \n",
       "1  Weaves the drive core between enemies before c...   \n",
       "2  A rapid onslaught of bolts.\\nWhen Valkyrie Bol...   \n",
       "3  An attack that switches between ground and aer...   \n",
       "4  Launch a HE Round with a rocket launcher.\\nAt ...   \n",
       "\n",
       "                                         Astral Ring   SP  \n",
       "0  Unleash the power of Astral Ring to enhance th...  NaN  \n",
       "1  Unleash Astral Ring's power and enhance the ch...  NaN  \n",
       "2  Unleash Astral Ring's power to enhance the cha...  NaN  \n",
       "3  Unleashes Astral Ring's power and enhances the...  NaN  \n",
       "4  Unleash Astral Ring's power to enhance the cha...  NaN  \n",
       "\n",
       "[5 rows x 24 columns]"
      ]
     },
     "execution_count": 3,
     "metadata": {},
     "output_type": "execute_result"
    }
   ],
   "source": [
    "# note: wsl spreadsheet is symlink to documents folder on windows\n",
    "df = pd.read_excel(\"HI3_Data.xlsx\")\n",
    "df.head(5)"
   ]
  },
  {
   "cell_type": "code",
   "execution_count": 4,
   "metadata": {},
   "outputs": [
    {
     "data": {
      "text/plain": [
       "Index(['Battlesuit', 'Release Date', 'Default Rank', 'Battlesuit Type',\n",
       "       'Damage Type', 'Optimal Role', 'Optimal Weapon', 'Stigma (T)',\n",
       "       'Stigma (M)', 'Stigma (B)', 'Max Stigma Stats (T)',\n",
       "       'Max Stigma Stats (M)', 'Max Stigma Stats (B)',\n",
       "       'World Star Optimal Role', 'Wheel of Destiny Optimal Role',\n",
       "       'Leader Buff', 'Passive Buff', 'Evasion', 'Weapon Skills', 'Basic ATK',\n",
       "       'Ultimate', 'Special Attack', 'Astral Ring', 'SP'],\n",
       "      dtype='object')"
      ]
     },
     "execution_count": 4,
     "metadata": {},
     "output_type": "execute_result"
    }
   ],
   "source": [
    "df.columns"
   ]
  },
  {
   "cell_type": "code",
   "execution_count": 5,
   "metadata": {},
   "outputs": [
    {
     "name": "stdout",
     "output_type": "stream",
     "text": [
      "NaN Present: True\n"
     ]
    }
   ],
   "source": [
    "# locate any potential null values\n",
    "print(\"NaN Present:\", df.isnull().values.any())"
   ]
  },
  {
   "cell_type": "markdown",
   "metadata": {},
   "source": [
    "## 2. View Statistics of Data\n",
    "\n",
    "Let's start with something simple like the number of S-ranked battlesuits in a pie-chart before moving onto the usage of stigmas.\n",
    "\n",
    "VISUALIZE VISUALIZE VISUALIZE!!! 🤩"
   ]
  },
  {
   "cell_type": "code",
   "execution_count": 6,
   "metadata": {},
   "outputs": [],
   "source": [
    "# backgrounds become black, everything is white text\n",
    "plt.style.use(\"dark_background\")"
   ]
  },
  {
   "cell_type": "code",
   "execution_count": 7,
   "metadata": {},
   "outputs": [
    {
     "data": {
      "image/png": "[encoded data removed]",
      "text/plain": [
       "<Figure size 1000x600 with 1 Axes>"
      ]
     },
     "metadata": {},
     "output_type": "display_data"
    }
   ],
   "source": [
    "from matplotlib import pyplot as plt\n",
    "\n",
    "rarity_count = df[\"Default Rank\"].value_counts()\n",
    "\n",
    "rarity_colors = {\n",
    "    \"S\": \"#DEA747\",\n",
    "    \"A\": \"#A460DB\"\n",
    "}\n",
    "\n",
    "rarity_colors = [rarity_colors[rarity] for rarity in rarity_count.index]\n",
    "\n",
    "plt.figure(figsize=(10, 6))\n",
    "\n",
    "plt.suptitle(\"Rarity of Battlesuits\")\n",
    "\n",
    "plt.pie(\n",
    "    rarity_count,\n",
    "    labels=rarity_count.index,\n",
    "    autopct=\"%1.2f%%\",\n",
    "    colors=rarity_colors\n",
    ")\n",
    "\n",
    "plt.legend()\n",
    "plt.show()"
   ]
  },
  {
   "cell_type": "code",
   "execution_count": 8,
   "metadata": {},
   "outputs": [
    {
     "data": {
      "image/png": "[encoded data removed]",
      "text/plain": [
       "<Figure size 1800x500 with 3 Axes>"
      ]
     },
     "metadata": {},
     "output_type": "display_data"
    }
   ],
   "source": [
    "stats = {\n",
    "    \"Battlesuit Type\": df[\"Battlesuit Type\"].value_counts(),\n",
    "    \"Damage Type\": df[\"Damage Type\"].value_counts(),\n",
    "    \"Optimal Role\": df[\"Optimal Role\"].value_counts()\n",
    "}\n",
    "\n",
    "# all unique labels so colors can be combined in one dict\n",
    "color_scheme = {\n",
    "    \"Psychic\": \"#FC4399\",\n",
    "    \"Mecha\": \"#43C6FC\",\n",
    "    \"Imaginary\": \"#F1D490\",\n",
    "    \"Biologic\": \"#FB9F43\",\n",
    "    \"Quantum\": \"#8D6EFF\",\n",
    "    \"Stardust\": \"#FFAAAA\",\n",
    "    \"Fire\": \"#E83E3E\",\n",
    "    \"Lightning\": \"#FCE231\",\n",
    "    \"Ice\": \"#89D4FF\",\n",
    "    \"Physical\": \"#FF9201\",\n",
    "    \"DPS\": \"#D54C0C\",\n",
    "    \"Support\": \"#009BFF\",\n",
    "    \"Both\": \"#A23DFF\"\n",
    "}\n",
    "\n",
    "fig = plt.figure(figsize=(18, 5))\n",
    "\n",
    "for i, stat in enumerate(stats, start=1):\n",
    "    ax = fig.add_subplot(1, 3, i)\n",
    "    \n",
    "    ax.set_title(stat)\n",
    "    ax.set_ylabel(\"Battlesuit Count\")\n",
    "    \n",
    "    ax.set_yticks(range(0, max(stats[stat].values)+2, 2))\n",
    "    \n",
    "    colors = [color_scheme[info] for info in stats[stat].index]\n",
    "    \n",
    "    bar_graph = ax.bar(\n",
    "        stats[stat].index,\n",
    "        height=stats[stat].values,\n",
    "        width=0.7,\n",
    "        color=colors\n",
    "    )\n",
    "    \n",
    "    plt.bar_label(\n",
    "        bar_graph,\n",
    "        label=stats[stat].values,\n",
    "        label_type=\"edge\"\n",
    "    )\n",
    "\n",
    "plt.show()"
   ]
  },
  {
   "cell_type": "markdown",
   "metadata": {},
   "source": [
    "The data will deepen our AI's judgement/understanding for Psychic, Lightning, and/or DPS battlesuits more in comparison to others since there is an abundance of these types."
   ]
  },
  {
   "cell_type": "code",
   "execution_count": 9,
   "metadata": {},
   "outputs": [
    {
     "data": {
      "image/png": "[encoded data removed]",
      "text/plain": [
       "<Figure size 1800x500 with 3 Axes>"
      ]
     },
     "metadata": {},
     "output_type": "display_data"
    }
   ],
   "source": [
    "# get first 5 rows (biggest quantities descending)\n",
    "stigma_data = {\n",
    "    \"T\": df[\"Stigma (T)\"].value_counts().iloc[:5],\n",
    "    \"M\": df[\"Stigma (M)\"].value_counts().iloc[:5],\n",
    "    \"B\": df[\"Stigma (B)\"].value_counts().iloc[:5]\n",
    "}\n",
    "fig = plt.figure(figsize=(18, 5))\n",
    "fig.suptitle(\"Top 5 Most Used Stigmata\")\n",
    "\n",
    "for i, stigma in enumerate(stigma_data, start=1): # iterates over keys\n",
    "    ax = fig.add_subplot(1, 3, i)\n",
    "    \n",
    "    ax.set_title(f\"Stigma {stigma}\")\n",
    "    ax.set_ylabel(\"Battlesuit Count\")\n",
    "    \n",
    "    bar_graph = ax.bar(\n",
    "        stigma_data[stigma].index,\n",
    "        height=stigma_data[stigma].values,\n",
    "        width=0.7\n",
    "    )\n",
    "    \n",
    "    plt.bar_label(\n",
    "        bar_graph,\n",
    "        labels=stigma_data[stigma].values,\n",
    "        label_type=\"edge\"\n",
    "    )\n",
    "    \n",
    "    ax.tick_params(\"x\", labelrotation=90)\n",
    "\n",
    "plt.tight_layout() # avoid cutting off x-axis labels\n",
    "\n",
    "plt.show()"
   ]
  },
  {
   "cell_type": "markdown",
   "metadata": {},
   "source": [
    "There will be a bias in Handel stigmata along with Wang Zhenyi due to their abundance (that is, the AI model will recognize these stigmata's uses more than others)."
   ]
  },
  {
   "cell_type": "markdown",
   "metadata": {},
   "source": [
    "Could it be that Psychic battlesuits happen to use Handel stigmata? Let's check with a Chi-Square test..."
   ]
  },
  {
   "cell_type": "code",
   "execution_count": 10,
   "metadata": {},
   "outputs": [
    {
     "name": "stdout",
     "output_type": "stream",
     "text": [
      "p value: 0.53228\n",
      "A Psychic battlesuit is not related to Handel stigmata\n"
     ]
    }
   ],
   "source": [
    "# test of independence - if two variables are independent\n",
    "from scipy.stats import chi2_contingency\n",
    "\n",
    "battlesuit_stigmata = df.loc[df[\"Battlesuit Type\"] == \"Psychic\", [\"Battlesuit\", 'Stigma (T)', 'Stigma (M)', 'Stigma (B)']]\n",
    "battlesuit_stigmata = pd.get_dummies(battlesuit_stigmata) # strings -> floats, one hot encoding\n",
    "\n",
    "# test statistics, p-value, degrees of freedom, expected table\n",
    "stat, p, dof, expected = chi2_contingency(battlesuit_stigmata)\n",
    "print(f\"p value: {p:.5f}\")\n",
    "print(\"A Psychic battlesuit is related to equipping Handel stigmata\") if p <= 0.05 else print(\"A Psychic battlesuit is not related to Handel stigmata\")"
   ]
  },
  {
   "cell_type": "markdown",
   "metadata": {},
   "source": [
    "## 3. Excel -> NumPy, Preprocessing"
   ]
  },
  {
   "cell_type": "code",
   "execution_count": 11,
   "metadata": {},
   "outputs": [],
   "source": [
    "# convert for easier & faster calculations\n",
    "df = df.to_numpy(dtype=str)"
   ]
  },
  {
   "cell_type": "code",
   "execution_count": 12,
   "metadata": {},
   "outputs": [],
   "source": [
    "def get_column_value(array: np.ndarray, row: int, max_chars: int=25):\n",
    "    print(\"Column, Value\")\n",
    "    for i, column in enumerate(array[row, :]):\n",
    "        value = column\n",
    "        if len(column) > max_chars:\n",
    "            value = value[:max_chars] + \"...\"\n",
    "        print(f\"{i}: {value}\")"
   ]
  },
  {
   "cell_type": "code",
   "execution_count": 13,
   "metadata": {},
   "outputs": [
    {
     "name": "stdout",
     "output_type": "stream",
     "text": [
      "Column, Value\n",
      "0: Schicksal's Imperative\n",
      "1: 2024-09-05 00:00:00\n",
      "2: S\n",
      "3: Quantum\n",
      "4: Lightning\n",
      "5: DPS\n",
      "6: Vacation Notice\n",
      "7: Day After Day (T)\n",
      "8: Day After Day (M)\n",
      "9: Day After Day (B)\n",
      "10: 371, 113, 77, 0, 0\n",
      "11: 434, 0, 236, 8, 0\n",
      "12: 388, 59, 86, 13, 0\n",
      "13: DPS\n",
      "14: Support\n",
      "15: Activates World Star and ...\n",
      "16: Build up Stress during Do...\n",
      "17: Evade or jump to dodge en...\n",
      "18: Attack together with pupp...\n",
      "19: Fight using the Request-D...\n",
      "20: Schicksal's Imperative fa...\n",
      "21: Fight using the Message-B...\n",
      "22: Unleash the power of Astr...\n",
      "23: -999\n"
     ]
    }
   ],
   "source": [
    "# replace NaN with \"-999\"\n",
    "# first convert np.nan to string and then compare\n",
    "nan_str = np.array([np.nan]).astype(str)[0]\n",
    "\n",
    "df[np.where(df.astype(str)==nan_str)] = -999\n",
    "get_column_value(df, 0)"
   ]
  },
  {
   "cell_type": "markdown",
   "metadata": {},
   "source": [
    "### NumPy Bracket Notation\n",
    "Let `df` be the variable of the row by column NumPy array.\n",
    "\n",
    "In the brackets, the first parameter lets you select rows, while the second parameter selects the columns.\\\n",
    "Format: df[`row`, `column`]\n",
    "\n",
    "Examples:\n",
    "\n",
    "`df[5, 6]` - This selects the 6th row and the 7th column\\\n",
    "`df[:, 1]` - This selects all rows in the 2nd column\\\n",
    "`df[3:, :]` - This selects the 4th row and onwards for all columns\\\n",
    "`df[0, 0]` - This selects the 1st row and column\n",
    "\n",
    "For indices that return multiple results, they are returned in NumPy arrays"
   ]
  },
  {
   "cell_type": "code",
   "execution_count": 14,
   "metadata": {},
   "outputs": [
    {
     "data": {
      "text/plain": [
       "array([\"Schicksal's Imperative\", '2024-09-05 00:00:00', 'S', 'Quantum',\n",
       "       'Lightning', 'DPS', 'Vacation Notice', 'Day After Day (T)',\n",
       "       'Day After Day (M)', 'Day After Day (B)', '371, 113, 77, 0, 0',\n",
       "       '434, 0, 236, 8, 0', '388, 59, 86, 13, 0', 'DPS', 'Support',\n",
       "       \"Activates World Star and unlocks enhancements based on the number of team members with the Domain Resonance trait.\\nWorld Star is activated when Schicksal's Imperative is the leader.\\nAstral Ring Intensity cost: 150. Stellar Outburst duration: 25s. CD: 25s.\\nWhen there is at least 1 team member with the Domain Resonance trait, all team members deal 10.0% more Elemental DMG in Astral Ring Charging state.\\nWhen there are at least 2 team members with the Domain Resonance trait, Schicksal's Imperative's Resonance Attack deals 10.0% more Total DMG.\\nWhen there are 3 team members with the Domain Resonance trait, enemies take 10.0% more Lightning DMG from Schicksal's Imperative's Resonance (independent).\\nSchicksal's Calling - I'm the Leader? Skill\",\n",
       "       \"Build up Stress during Don't Wanna Work and relieve Stress during Let Me Leave Work! to perform more attacks.\\nAttack during Don't Wanna Work to build up Stress.\\nStress caps at 600 and starts at 0. It is cleared when Schicksal's Imperative leaves the field.\\nDuring Let Me Leave Work!:\\nEvery aerial attack relieves 150 Stress.\\nSchicksal's Imperative will auto-perform Work Is Over Alarm when Stress drops to 0.\",\n",
       "       \"Evade or jump to dodge enemy attacks. Can evade twice in a row on the ground, evade and jump once in midair. Jumping in midair resets the aerial evasion counter.\\nA successful Ultimate Jump triggers Ultimate Evasion Skill.\\nUltimate Evasion Skill: Causes 3s of global Time Fracture, and builds up 300 Stress during Don't Wanna Work. CD: 15s.\",\n",
       "       \"Attack together with puppets.\\nDuring Don't Wanna Work:\\nTap [Weapon] on the ground to throw Work-Passing Ball, dealing 800% ATK of Lightning DMG and building up 300 Stress.\\nDuring Let Me Leave Work!:\\nTap [Weapon] to perform Stress Transfer, dealing 500% + 500% ATK of Lightning DMG and inflicting Substitute Mark on the first enemy hit for 15s (retriggering refreshes duration).\\nCD: 10s.\",\n",
       "       \"Fight using the Request-Declining Blade that her puppets transformed into.\\nDuring Don't Wanna Work:\\nTap [ATK] on the ground to perform a 3-sequence combo:\\nSEQ 1: Deals 80% ATK of Lightning DMG and builds up 75 Stress.\\nSEQ 2: Deals 90% ATK of Lightning DMG and builds up 75 Stress.\\nSEQ 3: Deals 100% x 3 ATK of Lightning DMG and builds up 150 Stress.\\nTap [ATK] in midair to perform Do Not Disturb with Message-Blocking Swatter, dealing 150% + 150% + 100% ATK of Lightning DMG and building up 150 Stress.\\nDuring Let Me Leave Work!:\\nTap [ATK] in midair to perform a 2-sequence combo:\\nSEQ 1: Deals 400% + 400% ATK of Lightning DMG and relieves 150 Stress.\\nSEQ 2: Deals 680% x 2 ATK of Lightning DMG and relieves 150 Stress.\\nMash [ATK] during SEQ 2 to extend the attack, dealing up to 680% x 4 ATK of Lightning DMG and relieving up to 300 Stress.\",\n",
       "       \"Schicksal's Imperative falls asleep on the spot and has her puppets Off-Work HOMU and On-Vacay HOMU do her job. She wakes up after they are done.\\n\\nTap [ULT] to perform Knock Off Now!, exit Let Me Leave Work!, retain Stress, and enter Break Time. Schicksal's Imperative's puppets will descend to the field, dealing 800% ATK of Lightning DMG and causing 1s of global Time Fracture.\\nSchicksal's Imperative can stay in Break Time for up to 16s, during which she is invincible and recovers 200 HP per 1s. In the meantime, you can switch other characters in and her puppets will auto-attack, dealing 5% ATK of Lightning DMG per hit (count as Ultimate DMG).\\nAfter Break Time has continued for 5s:\\nIf another character hasn't been switched in, you can tap [ULT] to perform Work Done in Dreams.\\nIf another character has been switched in:\\nTap Schicksal's Imperative's avatar to switch her in and perform Work Done in Dreams.\\nWhen Break Time ends, she auto-performs Work Done in Dreams and leaves the field.\\nWork Done in Dreams: The puppets attack and vanish, dealing 500% ATK of Lightning DMG and inflicting Collapse on all enemies once. If Schicksal's Imperative is being controlled, she gains 300 Stress, and performs Work Done in Dreams when Break Time ends.\\nIf Schicksal's Imperative is being controlled, performing Knock Off Now! or Work Done in Dreams grants her invincibility and triggers Time-frozen Domain.\\nSP cost: 50. CD: 10s.\",\n",
       "       \"Fight using the Message-Blocking Swatter or Work Is Over Alarm Clock that her puppets transformed into.\\nWhen Stress is full in Don't Wanna Work state:\\nHold [ATK] on the ground to perform Sleep Helper, dealing 225% + 150% + 300% x 5 ATK of Lightning DMG.\\nHold [ATK] in midair to perform Message Blocking, dealing 150% + 150% + 200% + 300% ATK of Lightning DMG.\\nAutomatically enters Let Me Leave Work! state after performing Sleep Helper or Message Blocking.\\nDuring Let Me Leave Work!:\\nHold [ATK] to perform Work Is Over Alarm, dealing 400% + 400% + 1200% ATK of Lightning DMG, clearing Stress, causing 2s of global Time Fracture, and canceling Let Me Leave Work!.\",\n",
       "       \"Unleash the power of Astral Ring to enhance the character.\\nThe character is protected by World Star. Upon entering Stellar Outburst, cast Stellar Assault to deal 400% ATK of Lightning DMG, accrue 600 Stress, and enter Let Me Leave Work! state. Aerial Basic ATK's 2nd seq or Quantum Mech Energy's 2nd seq fires an extra puppet pinball upon hitting an enemy with Substitute Mark, which deals 100% ATK of Lightning DMG to enemies within range.\\nWhile World Star is activated:\\nDuring Stellar Outburst:\\n The puppets descend to the field and the character's Ultimate is replaced by a special Ultimate, which deals 400% x 2 ATK of Lightning DMG, causes 3s of global Time Fracture, and inflicts Collapse on surrounding enemies once. CD: 28s. SP cost: 30.\\nWith Schicksal's Imperative as the leader:\\nThe puppets will both transform into Domain Resonance Mark. They can be triggered by Resonance Attack to deal 20% x 2 ATK of Lightning DMG (counts as Ultimate DMG). They can be triggered up to 18 times at an interval of 0.7s.\\nWhen Stellar Outburst ends, the puppets will instantly vanish. If the character has Quantum Mech Energy, she will lose all Quantum Mech Energy and release all Stress.\\nWhile Wheel of Destiny is activated:\\nCharacters protected by Wheel of Destiny, while in Stellar Outburst state, can trigger Schicksal's Imperative's Phantom support attack, where on-field characters deal 1200% ATK of Adaptive DMG (counts as Shadow Star Attack DMG). Casting this attack grants them 11s of Rondo in the Shadows.\\nDuring Stellar Outburst, the character immediately casts Work Done in Dreams.\",\n",
       "       '-999'], dtype='<U2100')"
      ]
     },
     "execution_count": 14,
     "metadata": {},
     "output_type": "execute_result"
    }
   ],
   "source": [
    "df[0, :]"
   ]
  },
  {
   "cell_type": "code",
   "execution_count": 15,
   "metadata": {},
   "outputs": [],
   "source": [
    "# drop the two columns we dont need\n",
    "# name & date @ [0, 1], stigma stats @ [10, 12]\n",
    "df = np.delete(df, np.concatenate((np.arange(0, 2), np.arange(10, 13))), axis=1)"
   ]
  },
  {
   "cell_type": "code",
   "execution_count": 16,
   "metadata": {},
   "outputs": [],
   "source": [
    "# replace newlines with spaces\n",
    "df = np.char.replace(df, \"\\n\", \" \")"
   ]
  },
  {
   "cell_type": "code",
   "execution_count": 17,
   "metadata": {},
   "outputs": [
    {
     "name": "stdout",
     "output_type": "stream",
     "text": [
      "Column, Value\n",
      "0: S\n",
      "1: Quantum\n",
      "2: Lightning\n",
      "3: DPS\n",
      "4: Vacation Notice\n",
      "5: Day After Day (T)\n",
      "6: Day After Day (M)\n",
      "7: Day After Day (B)\n",
      "8: DPS\n",
      "9: Support\n",
      "10: Activates World Star and ...\n",
      "11: Build up Stress during Do...\n",
      "12: Evade or jump to dodge en...\n",
      "13: Attack together with pupp...\n",
      "14: Fight using the Request-D...\n",
      "15: Schicksal's Imperative fa...\n",
      "16: Fight using the Message-B...\n",
      "17: Unleash the power of Astr...\n",
      "18: -999\n"
     ]
    }
   ],
   "source": [
    "# double check that we dropped it correctly\n",
    "# there should be no stigmata stats or names/dates\n",
    "get_column_value(df, 0)"
   ]
  },
  {
   "cell_type": "markdown",
   "metadata": {},
   "source": [
    "From the given column values, we want to sort out our features and labels into separate arrays. Labels are from column values [4, 7], while the rest are in a features array"
   ]
  },
  {
   "cell_type": "markdown",
   "metadata": {},
   "source": [
    "Array -> Features & Labels\n",
    "\n",
    "**FEATURES**: `\"Default Rank\"`, `\"Battlesuit Type\"`, `\"Damage Type\"`, `\"Optimal Role\"`, `\"World Star Optimal Role\"`, `\"Wheel of Destiny Optimal Role\"`, etc...\\\n",
    "**LABELS**: `\"Optimal Weapon\"`, `\"Stigma (T)\"`, `\"Stigma (M)\"`, `\"Stigma (B)\"`"
   ]
  },
  {
   "cell_type": "code",
   "execution_count": 18,
   "metadata": {},
   "outputs": [
    {
     "name": "stdout",
     "output_type": "stream",
     "text": [
      "['Electrifying Arc' 'Von Neumann (T)' 'Von Neumann (M)' 'Von Neumann (B)']\n",
      "Column, Value\n",
      "0: Electrifying Arc\n",
      "1: Von Neumann (T)\n",
      "2: Von Neumann (M)\n",
      "3: Von Neumann (B)\n",
      "(65, 4)\n"
     ]
    }
   ],
   "source": [
    "# arrange labels into another array\n",
    "# 5-8 columns are labels\n",
    "\n",
    "labels_arr = df[:, 4:8].astype(str)\n",
    "print(labels_arr[2, :])\n",
    "get_column_value(labels_arr, 2)\n",
    "print(labels_arr.shape)"
   ]
  },
  {
   "cell_type": "code",
   "execution_count": 19,
   "metadata": {},
   "outputs": [
    {
     "name": "stdout",
     "output_type": "stream",
     "text": [
      "Column, Value\n",
      "0: S\n",
      "1: Quantum\n",
      "2: Lightning\n",
      "3: DPS\n",
      "4: DPS\n",
      "5: Support\n",
      "6: Activates World Star and ...\n",
      "7: Build up Stress during Do...\n",
      "8: Evade or jump to dodge en...\n",
      "9: Attack together with pupp...\n",
      "10: Fight using the Request-D...\n",
      "11: Schicksal's Imperative fa...\n",
      "12: Fight using the Message-B...\n",
      "13: Unleash the power of Astr...\n",
      "14: -999\n",
      "(65, 15)\n",
      "<U2100\n"
     ]
    }
   ],
   "source": [
    "# make sure the features/labels are separated correctly by checking via slice\n",
    "# arrange features into a new numpy array\n",
    "\n",
    "#features_arr = np.c_[df[:, :4], df[:, 8:]] # concatenate columns\n",
    "features_arr = np.concatenate((df[:, :4], df[:, 8:]), axis=1, dtype=str)\n",
    "get_column_value(features_arr, 0)\n",
    "print(features_arr.shape)\n",
    "print(features_arr.dtype)"
   ]
  },
  {
   "cell_type": "code",
   "execution_count": 20,
   "metadata": {},
   "outputs": [
    {
     "data": {
      "application/vnd.jupyter.widget-view+json": {
       "model_id": "5133a67c45ed443781f81015ffdd17e6",
       "version_major": 2,
       "version_minor": 0
      },
      "text/plain": [
       "  0%|          | 0/65 [00:00<?, ?it/s]"
      ]
     },
     "metadata": {},
     "output_type": "display_data"
    },
    {
     "name": "stdout",
     "output_type": "stream",
     "text": [
      "(3670,) ['' '&' \"'n'\" '(1166%' '(200' '(3' '(3rd,' '(3~7)' '(50.0']\n"
     ]
    }
   ],
   "source": [
    "# TODO see if there's a better way to do this\n",
    "# make nested list of features into one unique list\n",
    "# split spaces from columns 6-13\n",
    "words_raw = []\n",
    "for row in tqdm(features_arr[:, 6:14]):\n",
    "    for sentence in row:\n",
    "        words = sentence.split(\" \")\n",
    "        words_raw.extend(words)\n",
    "words_raw = np.unique(np.array(words_raw))\n",
    "print(words_raw.shape, words_raw[:9])"
   ]
  },
  {
   "cell_type": "markdown",
   "metadata": {},
   "source": [
    "Prepare features/labels as tokens/classes for BERT model"
   ]
  },
  {
   "cell_type": "code",
   "execution_count": 21,
   "metadata": {},
   "outputs": [
    {
     "name": "stdout",
     "output_type": "stream",
     "text": [
      "2100\n"
     ]
    }
   ],
   "source": [
    "# model params\n",
    "LEARNING_RATE = 1e-3\n",
    "DROPOUT = 0.5\n",
    "EPOCHS = 10\n",
    "#MAX_LEN = len(max(features_arr[0, :], key=len))\n",
    "MAX_LEN = max(len(str(col)) for row in features_arr for col in row)\n",
    "print(MAX_LEN)\n",
    "# LABELS will be defined down the doc"
   ]
  },
  {
   "cell_type": "code",
   "execution_count": 22,
   "metadata": {},
   "outputs": [
    {
     "data": {
      "application/vnd.jupyter.widget-view+json": {
       "model_id": "fb2bd63cf9794d10a57e055747c13d65",
       "version_major": 2,
       "version_minor": 0
      },
      "text/plain": [
       "  0%|          | 0/15 [00:00<?, ?it/s]"
      ]
     },
     "metadata": {},
     "output_type": "display_data"
    },
    {
     "name": "stdout",
     "output_type": "stream",
     "text": [
      "Length of Tokens List: 15\n",
      "Input ID Shape: torch.Size([1, 2100])\n",
      "Attention Mask Shape: torch.Size([1, 2100])\n",
      "Input ID Sample: tensor([[101, 156, 102,  ...,   0,   0,   0]])\n",
      "Attention Mask Sample: tensor([[1, 1, 1,  ..., 0, 0, 0]])\n"
     ]
    }
   ],
   "source": [
    "# simulate using tokenizer\n",
    "# input_ids, token_type_ids, attention_mask\n",
    "from transformers import BertTokenizerFast\n",
    "\n",
    "tokenizer = BertTokenizerFast.from_pretrained(\"bert-base-cased\")\n",
    "first_row_tokens = [tokenizer(token, padding=\"max_length\", max_length=MAX_LEN, truncation=True, return_tensors=\"pt\") for token in tqdm(features_arr[0, :])]\n",
    "input_id, attention_mask = first_row_tokens[0][\"input_ids\"], first_row_tokens[0][\"attention_mask\"]\n",
    "print(f\"Length of Tokens List: {len(first_row_tokens)}\")\n",
    "print(f\"Input ID Shape: {input_id.shape}\")\n",
    "print(f\"Attention Mask Shape: {attention_mask.shape}\")\n",
    "print(f\"Input ID Sample: {input_id[:2]}\")\n",
    "print(f\"Attention Mask Sample: {attention_mask[:2]}\")"
   ]
  },
  {
   "cell_type": "code",
   "execution_count": 23,
   "metadata": {},
   "outputs": [],
   "source": [
    "from sklearn.preprocessing import LabelEncoder\n",
    "\n",
    "label_encoders = [LabelEncoder() for _ in range(labels_arr.shape[1])]\n",
    "\n",
    "for i, col in enumerate(labels_arr.T): # transposed, columns as rows\n",
    "    label_encoders[i].fit(col)"
   ]
  },
  {
   "cell_type": "code",
   "execution_count": null,
   "metadata": {},
   "outputs": [
    {
     "name": "stdout",
     "output_type": "stream",
     "text": [
      "15 185\n"
     ]
    }
   ],
   "source": [
    "# get number of features and labels\n",
    "unique_labels = sum(len(label_encoder.classes_) for label_encoder in label_encoders)# number of unique labels\n",
    "FEATURES = features_arr.shape[1]\n",
    "\n",
    "print(FEATURES, unique_labels)"
   ]
  },
  {
   "cell_type": "code",
   "execution_count": 25,
   "metadata": {},
   "outputs": [
    {
     "data": {
      "text/plain": [
       "array(['Abyss Flower: Liminal Spiral', 'Anchor of the Voyage',\n",
       "       'Astral Divide: Pisces', 'Banquet Rose', \"Basilik's Image\",\n",
       "       'Blast Hammer', 'Bloodied Casket', 'Burn the Long Night',\n",
       "       'Cosmic Duality', 'Crusher Bunny 19C', 'Domain of Ascension',\n",
       "       'Domain of Ego', 'Domain of Genesis', 'Domain of Incandescence',\n",
       "       'Domain of Sentience', 'Domain of Unity', 'Dream Cutter',\n",
       "       'Echo of Paradise', 'Electrifying Arc',\n",
       "       \"Elysian Astra: Heart's Color\", 'Falcon Flare',\n",
       "       'Falcon Flare: FINAL', 'Iris of Helheim', 'Life Harvester',\n",
       "       'Lost Conviction', 'Midnight Ataegina', 'Miracle Kissy Pillow',\n",
       "       'Mitternachts Waltz', 'Nocturnal Stealth', 'Oblivion Down',\n",
       "       'Obscuring Wing', \"Pandora's Box 18th\", 'Prophetic Dreams',\n",
       "       'Purana Phantasma: Nighteye', 'Purge of Ten Faces',\n",
       "       'Red Star Thunderbolt', 'Rudder in Dream', 'Sagittarius Astra',\n",
       "       'Sanguine Gaze: Union', 'Seven Thunders', 'Star Dance',\n",
       "       'Star of Eden: World', 'Torch of Eons',\n",
       "       'Tower of the Past: Silk Ladder', 'Twirling Glaze: Lustrous Bloom',\n",
       "       'Vacation Notice', 'Volatile Sparkler',\n",
       "       'Whisper of the Past: Sonnet'], dtype='<U2100')"
      ]
     },
     "execution_count": 25,
     "metadata": {},
     "output_type": "execute_result"
    }
   ],
   "source": [
    "# mostly stigmas\n",
    "label_encoders[0].classes_"
   ]
  },
  {
   "cell_type": "code",
   "execution_count": 26,
   "metadata": {},
   "outputs": [
    {
     "data": {
      "text/plain": [
       "array([45, 35, 18,  3,  7, 34,  5,  6,  1, 17, 15, 39, 24,  4, 42, 12, 36,\n",
       "       16,  2, 13, 11, 28, 40, 10, 20, 41, 23, 14, 32, 47, 25, 30, 27, 46,\n",
       "       19, 33, 26, 31, 44, 22, 22, 43, 37, 38,  9, 21,  8,  0,  6,  6,  6,\n",
       "        6, 15, 15, 39, 24,  6,  6,  8, 29, 12, 12, 33, 33, 16],\n",
       "      dtype=uint16)"
      ]
     },
     "execution_count": 26,
     "metadata": {},
     "output_type": "execute_result"
    }
   ],
   "source": [
    "label_test = label_encoders[0].transform(labels_arr[:, 0]).astype(np.uint16)\n",
    "label_test"
   ]
  },
  {
   "cell_type": "markdown",
   "metadata": {},
   "source": [
    "### 3.1 Make Dataset"
   ]
  },
  {
   "cell_type": "code",
   "execution_count": 27,
   "metadata": {},
   "outputs": [],
   "source": [
    "from pathlib import Path\n",
    "\n",
    "EXCEL_FILE_PATH = Path.joinpath(Path.cwd(), \"HI3_Data.xlsx\")"
   ]
  },
  {
   "cell_type": "code",
   "execution_count": 28,
   "metadata": {},
   "outputs": [],
   "source": [
    "# # TODO: batches -> torch tensors\n",
    "# this will be uncommented when dataset gets bigger\n",
    "# import os\n",
    "# import openpyxl\n",
    "# from typing import List\n",
    "# from torch.utils.data import IterableDataset\n",
    "# from sklearn.feature_extraction.text import CountVectorizer\n",
    "\n",
    "# class HI3Dataset(IterableDataset):\n",
    "#     def __init__(self,\n",
    "#                  file_path: str | os.PathLike,\n",
    "#                  mode: str=None,\n",
    "#                  use_columns: list=None,\n",
    "#                  exclude_columns: list=None\n",
    "#                  ):\n",
    "#         \"\"\"Streams an Excel file of Honkai Impact 3rd builds into memory when required.\n",
    "#         Args:\n",
    "#             file_path: The file path of the Excel file storing character builds\n",
    "#             mode: \"train\" or \"test\" to provide a training/testing dataset with preset columns. Can be overridden by use_columns & exclude_columns\n",
    "#             use_columns: A 1-indexed list of columns for the dataset to read (inclusive) (can include excluded columns).\n",
    "#             exclude_columns: A 1-indexed list of columns for the dataset to skip (inclusive) (can be in the use_columns range)\"\"\"\n",
    "#         raw_wb = openpyxl.load_workbook(file_path, read_only=True)\n",
    "#         self.ws = raw_wb.active\n",
    "#         self.max_row = self.ws.max_row\n",
    "#         self.excluded = None\n",
    "#         self.nan = {\"=NA()\": \"-999\"}\n",
    "        \n",
    "#         assert mode is not None or use_columns is not None or exclude_columns is not None, \"Must set keyword arguments for either mode or use_columns\"\n",
    "#         if mode is not None:\n",
    "#             match mode.lower():\n",
    "#                 case \"train\":\n",
    "#                     self.min_col, self.max_col = 3, self.ws.max_column\n",
    "#                     self.excluded = range(7, 14)\n",
    "#                 case \"test\":\n",
    "#                     self.min_col, self.max_col = 7, 10\n",
    "#                 case _:\n",
    "#                     raise Exception(\"Mode argument must be \\\"train\\\" or \\\"test\\\" (case-insensitive)\")\n",
    "#         else:\n",
    "#             self.min_col, self.max_col = use_columns\n",
    "#             if exclude_columns is not None:\n",
    "#                 self.excluded = range(exclude_columns[0], exclude_columns[1]+1)\n",
    "    \n",
    "#     def __preprocess(self, arr: np.ndarray) -> None:\n",
    "#         \"\"\"Preprocesses the NumPy array into a PyTorch Tensor in-place.\"\"\"\n",
    "#         arr[np.where(arr==self.nan.keys())] = self.nan.values()\n",
    "        \n",
    "        \n",
    "#     def __iter__(self):\n",
    "#         for i, row in enumerate(self.ws.iter_rows(min_row=2, max_row=self.ws.max_row, min_col=self.min_col, max_col=self.max_col, values_only=True)):\n",
    "#             if self.excluded is not None and i in self.excluded: # skip the row\n",
    "#                 continue\n",
    "#             arr = np.array(row, dtype=str)\n",
    "#             arr[np.where(arr==self.nan.keys())] = self.nan.values()\n",
    "#             yield arr\n",
    "    \n",
    "#     def __getitem__(self, index):\n",
    "#         \"\"\"Fetch a row from the dataset with a zero-indexed slice or index.\"\"\"\n",
    "#         arguments = {\n",
    "#             \"min_col\": self.min_col,\n",
    "#             \"max_col\": self.max_col,\n",
    "#             \"values_only\": True\n",
    "#         }\n",
    "        \n",
    "#         if isinstance(index, slice):\n",
    "#             assert index.step is None, \"Slicing step is not supported for indexing rows\"\n",
    "#             if index.start is not None:\n",
    "#                 arguments[\"min_row\"] = index.start + 2\n",
    "#             else:\n",
    "#                 arguments[\"min_row\"] = 2 #dont select header\n",
    "#             if index.stop is not None: \n",
    "#                 arguments[\"max_row\"] = index.stop + 1\n",
    "#             else:\n",
    "#                 arguments[\"max_row\"] = self.max_row\n",
    "#         else:\n",
    "#             arguments[\"min_row\"] = index + 2\n",
    "#             arguments[\"max_row\"] = index + 2\n",
    "        \n",
    "#         if \"min_row\" in arguments and \"max_row\" in arguments and arguments[\"min_row\"] == arguments[\"max_row\"]:\n",
    "#             arr = np.array(\n",
    "#                 next(self.ws.iter_rows(**arguments)),\n",
    "#                 dtype=str\n",
    "#             )\n",
    "#         else:\n",
    "#             arr = np.fromiter(self.ws.iter_rows(**arguments), dtype=object)\n",
    "#             arr = np.array(arr.tolist(), dtype=str) # remove tuples, make them rows\n",
    "        \n",
    "#         arr[np.where(arr==self.nan.keys())] = self.nan.values()\n",
    "#         return arr\n",
    "\n",
    "#     def __len__(self):\n",
    "#         return self.ws.max_row - 1 # header row is included\n",
    "        \n",
    "\n",
    "# train_ds = HI3Dataset(EXCEL_FILE_PATH, mode=\"train\") #[\"C:F\", \"N:X\"], 14-24\n",
    "# test_ds = HI3Dataset(EXCEL_FILE_PATH, mode=\"test\") # [G:J]"
   ]
  },
  {
   "cell_type": "code",
   "execution_count": 29,
   "metadata": {},
   "outputs": [],
   "source": [
    "# TODO use _label_index\n",
    "import os\n",
    "from torch.utils.data import Dataset\n",
    "from transformers import BertTokenizerFast\n",
    "from sklearn.preprocessing import LabelEncoder\n",
    "\n",
    "class HI3Dataset(Dataset):\n",
    "    def __init__(self,\n",
    "                 file_path: str | os.PathLike,\n",
    "                 *use_columns,\n",
    "                 train: bool=True,\n",
    "                 train_size: float=None,\n",
    "                 test_size: float=None,\n",
    "                 model_name: str=\"bert-base-uncased\",\n",
    "                 labels: list=None\n",
    "                 ):\n",
    "        \"\"\"Streams an Excel file of Honkai Impact 3rd builds into memory, preprocessing the data into tokens and classes. By default, it will load the entire dataset.\n",
    "        The NaN values are customizable through the attribute nan_values.\n",
    "        Note: The dataset is not preprocessed/encoded until you choose to split the dataset (to prevent label encoding leakage).\n",
    "        Args:\n",
    "            file_path: The file path of the Excel file storing character builds\n",
    "            model_name: The model name of BERT to be used (available in HuggingFace Documentation)\n",
    "            labels: A list of label column names to use from the dataset if not None. Defaults to Optimal Weapon & Stigma (T/M/B) columns if not set.\n",
    "            use_columns: A 0-indexed args parameter that allows manual input of columns to use for a dataset (inclusive)\"\"\"\n",
    "        \n",
    "        self.nan = {k:\"-999\" for k in [\"nan\"]}        \n",
    "        columns = use_columns if use_columns else None\n",
    "        \n",
    "        self.ws = pd.read_excel(file_path, usecols=columns)\n",
    "        self._label_index = {}\n",
    "        self._column_index = {v:k for k, v in enumerate(self.ws.columns)} # format: name, index\n",
    "        self._index_column = {k:v for k, v in enumerate(self.ws.columns)}\n",
    "        \n",
    "        self._labels = labels if labels is not None else [\"Optimal Weapon\", \"Stigma (T)\", \"Stigma (M)\", \"Stigma (B)\"]\n",
    "        self._features = [feature for feature in self._column_index.keys() if feature not in self._labels]\n",
    "        self.label_encoders = [LabelEncoder() for _ in range(len(self._labels))]\n",
    "        \n",
    "        assert (train and train_size is not None) or (not train and test_size is not None), \"Either train must be True with a specified train_size argument or train must be False with a specified test_size argument.\"\n",
    "        \n",
    "        self.ws = self.ws.to_numpy(dtype=str) # important! helps tokenizer recognize stuff\n",
    "        \n",
    "        if train_size is None:\n",
    "            train_size = 1.0 - test_size\n",
    "        \n",
    "        split = int(train_size*self.ws.shape[0])\n",
    "        \n",
    "        self.ws = self.ws[:split] if train else self.ws[split:]\n",
    "        \n",
    "        #input_ids, token_type_ids, attention_mask\n",
    "        self.max_row = self.ws.shape[0]\n",
    "        self.labels_arr: torch.Tensor = torch.zeros(self.max_row, len(self._labels), dtype=torch.int64)\n",
    "        self.input_ids, self.token_type_ids, self.attention_mask = [], [], []\n",
    "        \n",
    "        # needed for tokenizer\n",
    "        #self.vocab = self.get_vocab()\n",
    "        self.max_len = self._get_max_len()\n",
    "        self.tokenizer = BertTokenizerFast.from_pretrained(model_name)\n",
    "        \n",
    "        # everything -> numbers\n",
    "        # removes self.ws\n",
    "        self.__preprocess()\n",
    "    \n",
    "    \n",
    "    @property\n",
    "    def nan_values(self):\n",
    "        return self.nan\n",
    "    \n",
    "    \n",
    "    @nan_values.setter\n",
    "    def nan_values(self, new_nan: str):\n",
    "        \"\"\"Associates the given input to be registered as NaN by displaying it at -999\"\"\"\n",
    "        self.nan[new_nan] = \"-999\"\n",
    "    \n",
    "    \n",
    "    @property\n",
    "    def classes(self):\n",
    "        \"\"\"Returns the column names that will be considered features or classes.\"\"\"\n",
    "        return self._features\n",
    "    \n",
    "    \n",
    "    @property\n",
    "    def labels(self):\n",
    "        \"\"\"Returns the column names that will be considered labels.\"\"\"\n",
    "        return self._labels\n",
    "    \n",
    "    \n",
    "    @labels.setter\n",
    "    def labels(self, new_labels: list):\n",
    "        \"\"\"Replaces the current list of labels with a new list of labels.\n",
    "        This automatically sets the features of the dataset and resets the LabelEncoders.\"\"\"\n",
    "        self._labels = new_labels\n",
    "        self._features = [feature for feature in self._column_index.keys() if feature not in self._labels]\n",
    "        self.label_encoders = [LabelEncoder() for _ in range(len(self._labels))]\n",
    "    \n",
    "    \n",
    "    @property \n",
    "    def label_columns(self) -> dict:\n",
    "        \"\"\"Returns the indices and label column names that correspond to each other.\n",
    "        Format: Index: Label Column Name\"\"\"\n",
    "        return self._label_index\n",
    "\n",
    "    \n",
    "    @property\n",
    "    def num_labels(self):\n",
    "        \"\"\"Returns the number of unique labels in the entire dataset\"\"\"\n",
    "        count = 0\n",
    "        for label_encoder in self.label_encoders:\n",
    "            count += label_encoder.classes_\n",
    "        return count\n",
    "    \n",
    "    \n",
    "    @property\n",
    "    def num_features(self):\n",
    "        \"\"\"Returns the number of unique features in the entire dataset\"\"\"\n",
    "        return len(self.column_names)\n",
    "    \n",
    "    \n",
    "    @property\n",
    "    def label_names(self):\n",
    "        \"\"\"Returns the names of all the unique labels in the dataset.\"\"\"\n",
    "        # this is 1D\n",
    "        # also what in the java is this approach\n",
    "        labels = []\n",
    "        for label_encoder in self.label_encoders:\n",
    "            labels.extend(label_encoder.classes_)\n",
    "        \n",
    "        return labels\n",
    "            \n",
    "        \n",
    "    @property\n",
    "    def num_rows(self):\n",
    "        \"\"\"Returns the number of rows in the dataset's instance.\"\"\"\n",
    "        return self.max_row\n",
    "    \n",
    "    \n",
    "    @property\n",
    "    def column_names(self) -> dict:\n",
    "        \"\"\"Format: Column Name: Index\"\"\"\n",
    "        return self._column_index\n",
    "\n",
    "\n",
    "    #@property\n",
    "    #def vocabulary(self) -> np.ndarray:\n",
    "        #return self.vocab\n",
    "    \n",
    "    \n",
    "    def get_label_encoders(self) -> list:\n",
    "        \"\"\"Returns all LabelEncoders in a list (corresponding to label columns that come first)\"\"\"\n",
    "        return self.label_encoders\n",
    "    \n",
    "    \n",
    "    # doesnt support pytorch tens since it cant have strings\n",
    "    def label2arr(self, arr: np.ndarray | list) -> np.ndarray:\n",
    "        \"\"\"Returns a same-sized array of transformed/encoded items (numbers) from the dataset's LabelEncoder\n",
    "        i.e.: ['Domain of Ascension', 'Day After Day (T)', 'Day After Day (M)', \"Leaf's Visions (B)\"] -> [10, 11, 11, 18]\"\"\"\n",
    "        if isinstance(arr, np.ndarray):\n",
    "            assert arr.ndim == 1, f\"Array must be a sample of labels with only one categorical label. Must be 1D, got {arr.ndim}D\"\n",
    "        \n",
    "        labels: list = []\n",
    "        \n",
    "        for label_encoder, label in zip(self.label_encoders, arr):\n",
    "            labels.append(label_encoder.transform(np.array([label])).item())\n",
    "        \n",
    "        return labels\n",
    "\n",
    "\n",
    "    def arr2label(self, arr: np.ndarray | torch.Tensor) -> list:\n",
    "        \"\"\"Returns a same-sized 2D array of inverse-transformed items (english) from the dataset's LabelEncoder\n",
    "        i.e.: [10, 11, 11, 18] -> ['Domain of Ascension', 'Day After Day (T)', 'Day After Day (M)', \"Leaf's Visions (B)\"]\"\"\"\n",
    "        if isinstance(arr, torch.Tensor): # pytorch\n",
    "            assert arr.dim() == 1, f\"Array must be a sample of labels with only one categorical label. Must be 1D, got {arr.dim()}D\"\n",
    "                        \n",
    "        else: # numpy\n",
    "            assert arr.ndim == 1, f\"Array must be a sample of labels with only one categorical label. Must be 1D, got {arr.ndim}D\"\n",
    "        \n",
    "        labels: list = []\n",
    "                \n",
    "        #labels = labels.reshape(-1, 1) # reshape for compatability, cannot transform scalars\n",
    "            \n",
    "        for label_encoder, label in zip(self.label_encoders, arr):\n",
    "            labels.append(label_encoder.inverse_transform(np.array([label])).item()) # reshape could work too)\n",
    "        \n",
    "        return labels\n",
    "        \n",
    "    \n",
    "    def _get_max_len(self) -> int:\n",
    "        \"\"\"Returns the length of the longest item in the dataset\"\"\"\n",
    "        col_lens = np.array([0]*self.ws.shape[1], dtype=np.uint32) # hopefully you dont exceed this\n",
    "        for i, col in enumerate(self.ws.T):\n",
    "            try:\n",
    "                col_lens[i] = len(max(col, key=len))\n",
    "            except TypeError: # cannot parse, usually a timestamp\n",
    "                continue\n",
    "        \n",
    "        return int(max(col_lens))\n",
    "        \n",
    "    \n",
    "    def __preprocess(self):\n",
    "        \"\"\"Preprocesses the NumPy dataset array in-place before encoding\"\"\"\n",
    "        assert hasattr(self, \"ws\"), \"The original dataset has already been split into feature and label datasets. There is no need to run this function...\"\n",
    "        # nan and newlines\n",
    "        self.ws[np.where(self.ws==self.nan.keys())] = self.nan.values()\n",
    "        self.ws = np.char.replace(self.ws, \"\\n\", \" \")\n",
    "        \n",
    "        # encode feature columns\n",
    "        for row in tqdm(self.ws, \"Encoding features and adding to lists...\"):\n",
    "            row_tokens = self.tokenizer(\n",
    "                row.tolist(),\n",
    "                padding=\"max_length\",\n",
    "                max_length=self.max_len,\n",
    "                truncation=True, # prob wont happen but just in case\n",
    "                return_tensors=\"pt\"\n",
    "            )\n",
    "            \n",
    "            self.input_ids.append(row_tokens[\"input_ids\"])\n",
    "            self.token_type_ids.append(row_tokens[\"token_type_ids\"])\n",
    "            self.attention_mask.append(row_tokens[\"attention_mask\"])\n",
    "\n",
    "        # encode label through columns\n",
    "        label_slice = [*[self._column_index[label_idx] for label_idx in self._labels]]\n",
    "        \n",
    "        # encode labels & transfer\n",
    "        for i, col_idx in tqdm(enumerate(label_slice), \"Encoding labels and adding to lists...\"):\n",
    "            self._label_index[self._index_column[col_idx]] = i\n",
    "            self.labels_arr[:, i] = torch.from_numpy(self.label_encoders[i].fit_transform(self.ws[:, col_idx]))\n",
    "\n",
    "        del self.ws\n",
    "\n",
    "    \n",
    "    def __getitem__(self, index) -> tuple[torch.Tensor, torch.Tensor, torch.Tensor]:\n",
    "        \"\"\"Fetch a row from the dataset with a zero-indexed slice or index.\n",
    "        Returns input ids, token_type_ids, attention masks, and corresponding labels from the dataset.\"\"\"\n",
    "        if isinstance(index, slice):\n",
    "            start = index.start if index.start is not None else 0\n",
    "            stop = index.stop if index.stop is not None else len(self.input_ids) - 1\n",
    "            step = index.step if index.step is not None else 1\n",
    "            \n",
    "            return self.input_ids[start:stop:step], self.token_type_ids[start:stop:step], self.attention_mask[start:stop:step], self.labels_arr[start:stop:step]\n",
    "        else:\n",
    "            return self.input_ids[index], self.token_type_ids[index], self.attention_mask[index], self.labels_arr[index]\n",
    "\n",
    "\n",
    "    def __len__(self):\n",
    "        return self.max_row"
   ]
  },
  {
   "cell_type": "markdown",
   "metadata": {},
   "source": [
    "#### Split the dataset into training and validation sets\n",
    "\n",
    "Since the class only creates one dataset, we must split the dataset manually into two so we can have a dedicated training and testing dataset."
   ]
  },
  {
   "cell_type": "code",
   "execution_count": 30,
   "metadata": {},
   "outputs": [
    {
     "data": {
      "application/vnd.jupyter.widget-view+json": {
       "model_id": "4a16c0eb80ac452bacf5c69a0894834f",
       "version_major": 2,
       "version_minor": 0
      },
      "text/plain": [
       "Encoding features and adding to lists...:   0%|          | 0/52 [00:00<?, ?it/s]"
      ]
     },
     "metadata": {},
     "output_type": "display_data"
    },
    {
     "data": {
      "application/vnd.jupyter.widget-view+json": {
       "model_id": "13b32727fbf9473881da1ed47ead3a6c",
       "version_major": 2,
       "version_minor": 0
      },
      "text/plain": [
       "Encoding labels and adding to lists...: 0it [00:00, ?it/s]"
      ]
     },
     "metadata": {},
     "output_type": "display_data"
    },
    {
     "data": {
      "application/vnd.jupyter.widget-view+json": {
       "model_id": "02757b38686a4805a400fc8f8545a484",
       "version_major": 2,
       "version_minor": 0
      },
      "text/plain": [
       "Encoding features and adding to lists...:   0%|          | 0/13 [00:00<?, ?it/s]"
      ]
     },
     "metadata": {},
     "output_type": "display_data"
    },
    {
     "data": {
      "application/vnd.jupyter.widget-view+json": {
       "model_id": "973ed74e23ff4a948a9699962cc013e6",
       "version_major": 2,
       "version_minor": 0
      },
      "text/plain": [
       "Encoding labels and adding to lists...: 0it [00:00, ?it/s]"
      ]
     },
     "metadata": {},
     "output_type": "display_data"
    },
    {
     "data": {
      "text/plain": [
       "(52, 13)"
      ]
     },
     "execution_count": 30,
     "metadata": {},
     "output_type": "execute_result"
    }
   ],
   "source": [
    "# get the actual dataset first\n",
    "# exclude name, date, and max stigma stats\n",
    "raw_train_ds = HI3Dataset(EXCEL_FILE_PATH, *range(2, 10), *range(13, 24), train=True, train_size=0.8)\n",
    "test_ds = HI3Dataset(EXCEL_FILE_PATH, *range(2, 10), *range(13, 24), train=False, test_size=0.2)\n",
    "\n",
    "len(raw_train_ds), len(test_ds)"
   ]
  },
  {
   "cell_type": "code",
   "execution_count": 31,
   "metadata": {},
   "outputs": [
    {
     "data": {
      "text/plain": [
       "(42, 10)"
      ]
     },
     "execution_count": 31,
     "metadata": {},
     "output_type": "execute_result"
    }
   ],
   "source": [
    "# create validation dataset by splitting training dataset into two\n",
    "from torch.utils.data import random_split\n",
    "\n",
    "train_ds: torch.utils.data.dataset.Subset\n",
    "valid_ds: torch.utils.data.dataset.Subset\n",
    "train_ds, valid_ds = random_split(\n",
    "    raw_train_ds,\n",
    "    [0.8, 0.2]\n",
    ")\n",
    "len(train_ds), len(valid_ds)"
   ]
  },
  {
   "cell_type": "code",
   "execution_count": 32,
   "metadata": {},
   "outputs": [
    {
     "data": {
      "text/plain": [
       "{'Default Rank': 0,\n",
       " 'Battlesuit Type': 1,\n",
       " 'Damage Type': 2,\n",
       " 'Optimal Role': 3,\n",
       " 'Optimal Weapon': 4,\n",
       " 'Stigma (T)': 5,\n",
       " 'Stigma (M)': 6,\n",
       " 'Stigma (B)': 7,\n",
       " 'World Star Optimal Role': 8,\n",
       " 'Wheel of Destiny Optimal Role': 9,\n",
       " 'Leader Buff': 10,\n",
       " 'Passive Buff': 11,\n",
       " 'Evasion': 12,\n",
       " 'Weapon Skills': 13,\n",
       " 'Basic ATK': 14,\n",
       " 'Ultimate': 15,\n",
       " 'Special Attack': 16,\n",
       " 'Astral Ring': 17,\n",
       " 'SP': 18}"
      ]
     },
     "execution_count": 32,
     "metadata": {},
     "output_type": "execute_result"
    }
   ],
   "source": [
    "train_ds.dataset.column_names"
   ]
  },
  {
   "cell_type": "code",
   "execution_count": 33,
   "metadata": {},
   "outputs": [
    {
     "data": {
      "application/vnd.jupyter.widget-view+json": {
       "model_id": "d30346975c9b4e8d94fdaf4e01deb0d8",
       "version_major": 2,
       "version_minor": 0
      },
      "text/plain": [
       "Encoding features and adding to lists...:   0%|          | 0/52 [00:00<?, ?it/s]"
      ]
     },
     "metadata": {},
     "output_type": "display_data"
    },
    {
     "data": {
      "application/vnd.jupyter.widget-view+json": {
       "model_id": "993e859c170e45fcb56730858309f875",
       "version_major": 2,
       "version_minor": 0
      },
      "text/plain": [
       "Encoding labels and adding to lists...: 0it [00:00, ?it/s]"
      ]
     },
     "metadata": {},
     "output_type": "display_data"
    }
   ],
   "source": [
    "# let's see how our data looks like when we loop through it\n",
    "experiment_ds = HI3Dataset(EXCEL_FILE_PATH, *range(2, 10), *range(13, 24), train=True, train_size=0.8, test_size=0.2)"
   ]
  },
  {
   "cell_type": "code",
   "execution_count": 34,
   "metadata": {},
   "outputs": [
    {
     "name": "stdout",
     "output_type": "stream",
     "text": [
      "Input IDs: tensor([[ 101, 1055,  102,  ...,    0,    0,    0],\n",
      "        [ 101, 8559,  102,  ...,    0,    0,    0]])\n",
      "Attention Mask: tensor([[0, 0, 0,  ..., 0, 0, 0],\n",
      "        [0, 0, 0,  ..., 0, 0, 0]])\n",
      "Input ID Shape: torch.Size([19, 2100])\n",
      "Attention Mask Shape: torch.Size([19, 2100])\n"
     ]
    }
   ],
   "source": [
    "sample = experiment_ds[0]\n",
    "print(f\"Input IDs: {sample[0][:2]}\")\n",
    "print(f\"Attention Mask: {sample[1][:2]}\")\n",
    "print(f\"Input ID Shape: {sample[0].size()}\")\n",
    "print(f\"Attention Mask Shape: {sample[1].size()}\")"
   ]
  },
  {
   "cell_type": "markdown",
   "metadata": {},
   "source": [
    "Note how our tensors have a shape of 2100 for each row which exceeds the token limit of 512 for BERT. We can either truncate the tokens we have to conform to BERT's usual token limit, or we can use libraries that leverage these numerable tokens. One comes at the risk of learning while one at the risk of memory (which can be countered)."
   ]
  },
  {
   "cell_type": "markdown",
   "metadata": {},
   "source": [
    "If we want to truncate, we can either:\n",
    "- Truncate the first few pieces of text\n",
    "- Truncate the last few pieces of text\n",
    "- Truncate the middle of the text\n",
    "  - outperforms chunking info, classifying, & gathering up together which is more expensive\n",
    "  - works better than cutting out the beginning of the text\n",
    "  - [research paper link to this evidence](https://doi.org/10.48550/arXiv.1905.05583)"
   ]
  },
  {
   "cell_type": "code",
   "execution_count": 35,
   "metadata": {},
   "outputs": [],
   "source": [
    "def truncate_mid(tens: torch.Tensor, token_limit: int=512) -> torch.Tensor:\n",
    "    \"\"\"Removes the middle third of a tensor to fit 2nd dimension within the token_limit parameter. Assumes the tensor is 2D and does not account for batch size.\"\"\"\n",
    "    assert token_limit < tens.size(-1), f\"The provided {token_limit} token limit is greater than the 2nd dimension of the tensor with a size of {tens.size(-1)}. Change token_limit to be equal to {tens.size(-1)} or less.\"\n",
    "    size = tens.size(-1)\n",
    "    \n",
    "    removed_chunk = size - token_limit # this is where chunk ends, or how long it is\n",
    "    \n",
    "    # after removing middle, choose the left as the first\n",
    "    first = (size - removed_chunk) // 2\n",
    "    \n",
    "    # the second half starts after removed chunk\n",
    "    last = first + removed_chunk # can also be token_limit\n",
    "    \n",
    "    return torch.cat((tens[:, :first], tens[:, last:]), dim=1)"
   ]
  },
  {
   "cell_type": "markdown",
   "metadata": {},
   "source": [
    "This is a visualizer of what the `truncate_mid()` method does, where the color-coded text corresponds to the end of the slice it makes.\n",
    "<br>\n",
    "<br>\n",
    "<img src=\"./static/images/truncate_mid_visualizer.png\" height=508 width=708 alt=\"4 Boxes of a Tensor being Sliced by Its Local Variables\">"
   ]
  },
  {
   "cell_type": "code",
   "execution_count": 36,
   "metadata": {},
   "outputs": [
    {
     "data": {
      "text/plain": [
       "torch.Size([15, 30])"
      ]
     },
     "execution_count": 36,
     "metadata": {},
     "output_type": "execute_result"
    }
   ],
   "source": [
    "test_tens = torch.zeros((15, 30))\n",
    "test_tens.size()"
   ]
  },
  {
   "cell_type": "code",
   "execution_count": 37,
   "metadata": {},
   "outputs": [
    {
     "data": {
      "text/plain": [
       "torch.Size([15, 30])"
      ]
     },
     "execution_count": 37,
     "metadata": {},
     "output_type": "execute_result"
    }
   ],
   "source": [
    "# modify middle third to be all ones\n",
    "test_tens[:, 10:20] = torch.ones((test_tens.size(0), 10))\n",
    "test_tens.size()"
   ]
  },
  {
   "cell_type": "code",
   "execution_count": 38,
   "metadata": {},
   "outputs": [
    {
     "data": {
      "text/plain": [
       "tensor([0., 0., 0., 0., 0., 0., 0., 0., 0., 0., 1., 1., 1., 1., 1., 1., 1., 1.,\n",
       "        1., 1., 0., 0., 0., 0., 0., 0., 0., 0., 0., 0.])"
      ]
     },
     "execution_count": 38,
     "metadata": {},
     "output_type": "execute_result"
    }
   ],
   "source": [
    "test_tens[0]"
   ]
  },
  {
   "cell_type": "markdown",
   "metadata": {},
   "source": [
    "The `truncate_mid()` should be removing the middle third of the entire tensor, so we should not be able to see any ones after the split."
   ]
  },
  {
   "cell_type": "code",
   "execution_count": 39,
   "metadata": {},
   "outputs": [
    {
     "data": {
      "text/plain": [
       "torch.Size([15, 20])"
      ]
     },
     "execution_count": 39,
     "metadata": {},
     "output_type": "execute_result"
    }
   ],
   "source": [
    "new_tens = truncate_mid(test_tens, token_limit=20)\n",
    "new_tens.size()"
   ]
  },
  {
   "cell_type": "code",
   "execution_count": 40,
   "metadata": {},
   "outputs": [
    {
     "data": {
      "text/plain": [
       "tensor([0., 0., 0., 0., 0., 0., 0., 0., 0., 0., 0., 0., 0., 0., 0., 0., 0., 0., 0., 0.])"
      ]
     },
     "execution_count": 40,
     "metadata": {},
     "output_type": "execute_result"
    }
   ],
   "source": [
    "# et voila!\n",
    "new_tens[0]"
   ]
  },
  {
   "cell_type": "markdown",
   "metadata": {},
   "source": [
    "### 3.2 Make Dataloader"
   ]
  },
  {
   "cell_type": "code",
   "execution_count": 41,
   "metadata": {},
   "outputs": [],
   "source": [
    "# prep dataloader\n",
    "import os\n",
    "from torch.utils.data import DataLoader\n",
    "\n",
    "BATCH_SIZE = 2\n",
    "# allow multiple cores to run dataloader\n",
    "os.environ[\"TOKENIZERS_PARALLELISM\"] = \"true\"\n",
    "\n",
    "train_dataloader = DataLoader(train_ds.dataset, batch_size=BATCH_SIZE, num_workers=os.cpu_count())\n",
    "valid_dataloader = DataLoader(valid_ds.dataset, batch_size=BATCH_SIZE, num_workers=os.cpu_count())\n",
    "test_dataloader = DataLoader(test_ds, batch_size=BATCH_SIZE, num_workers=os.cpu_count())"
   ]
  },
  {
   "cell_type": "code",
   "execution_count": 42,
   "metadata": {},
   "outputs": [
    {
     "data": {
      "text/plain": [
       "(26, 26, 7)"
      ]
     },
     "execution_count": 42,
     "metadata": {},
     "output_type": "execute_result"
    }
   ],
   "source": [
    "len(train_dataloader), len(valid_dataloader), len(test_dataloader)"
   ]
  },
  {
   "cell_type": "code",
   "execution_count": 43,
   "metadata": {},
   "outputs": [
    {
     "data": {
      "text/plain": [
       "[LabelEncoder(), LabelEncoder(), LabelEncoder(), LabelEncoder()]"
      ]
     },
     "execution_count": 43,
     "metadata": {},
     "output_type": "execute_result"
    }
   ],
   "source": [
    "# we need these label encoders for later (use training, not testing)\n",
    "label_encoders: list = train_ds.dataset.get_label_encoders()\n",
    "label_encoders"
   ]
  },
  {
   "cell_type": "code",
   "execution_count": 44,
   "metadata": {},
   "outputs": [],
   "source": [
    "experimental_dataloader = DataLoader(experiment_ds, batch_size=BATCH_SIZE, num_workers=os.cpu_count())\n",
    "\n",
    "test_bert = BertModel.from_pretrained(\"bert-base-uncased\")"
   ]
  },
  {
   "cell_type": "code",
   "execution_count": 45,
   "metadata": {},
   "outputs": [
    {
     "data": {
      "text/plain": [
       "4"
      ]
     },
     "execution_count": 45,
     "metadata": {},
     "output_type": "execute_result"
    }
   ],
   "source": [
    "# input ids, token_type_ids, attention masks, and corresponding labels\n",
    "test_tokens = next(iter(experimental_dataloader))\n",
    "len(test_tokens)"
   ]
  },
  {
   "cell_type": "code",
   "execution_count": 46,
   "metadata": {},
   "outputs": [
    {
     "data": {
      "text/plain": [
       "(torch.Size([2, 19, 2100]),\n",
       " torch.Size([2, 19, 2100]),\n",
       " torch.Size([2, 19, 2100]),\n",
       " torch.Size([2, 4]))"
      ]
     },
     "execution_count": 46,
     "metadata": {},
     "output_type": "execute_result"
    }
   ],
   "source": [
    "# doing this to prove that unpacking dataloader is possible\n",
    "meow1, meow2, meow3, meow4 = test_tokens\n",
    "meow1.size(), meow2.size(), meow3.size(), meow4.size()"
   ]
  },
  {
   "cell_type": "code",
   "execution_count": 47,
   "metadata": {},
   "outputs": [
    {
     "name": "stdout",
     "output_type": "stream",
     "text": [
      "Batch 1: torch.Size([19, 2100]) torch.Size([19, 2100]) torch.Size([19, 2100]) torch.Size([4])\n",
      "Batch 2: torch.Size([19, 2100]) torch.Size([19, 2100]) torch.Size([19, 2100]) torch.Size([4])\n"
     ]
    }
   ],
   "source": [
    "# this simulates going through batches\n",
    "for batch in range(test_tokens[0].size(0)):\n",
    "    input_id = test_tokens[0][batch]\n",
    "    token_type_id = test_tokens[1][batch]\n",
    "    attention_mask = test_tokens[2][batch]\n",
    "    batch_label = test_tokens[3][batch]\n",
    "    print(f\"Batch {batch+1}:\", end=\" \")\n",
    "    print(input_id.size(), token_type_id.size(), attention_mask.size(), batch_label.size())"
   ]
  },
  {
   "cell_type": "code",
   "execution_count": 48,
   "metadata": {},
   "outputs": [
    {
     "data": {
      "text/plain": [
       "(torch.Size([2, 19, 2100]),\n",
       " torch.Size([2, 19, 2100]),\n",
       " torch.Size([2, 19, 2100]),\n",
       " torch.Size([2, 4]))"
      ]
     },
     "execution_count": 48,
     "metadata": {},
     "output_type": "execute_result"
    }
   ],
   "source": [
    "# there are batches!!\n",
    "# test_tokens[3] are the labels\n",
    "test_tokens[0].size(), test_tokens[1].size(), test_tokens[2].size(), test_tokens[3].size()"
   ]
  },
  {
   "cell_type": "markdown",
   "metadata": {},
   "source": [
    "The formatting is fairly confusing, so this is how it should be broken down (from test_tokens):\n",
    "\n",
    "`[batch tensor of INPUT_IDS, batch tensor of TOKEN_TYPE_IDS, batch tensor of ATTENTION_MASKS, batch tensor of LABELS]`\n",
    "\n",
    "Note that each list item will have batches, so we must iterate through each tensor to get each batch's information.\n",
    "\n",
    "To access the `n`th batch of an input id, we would index like so:\\\n",
    "`test_tokens[0][n]`\n",
    "\n",
    "We index the 0th element to reference all input ids before getting the nth batch."
   ]
  },
  {
   "cell_type": "code",
   "execution_count": 49,
   "metadata": {},
   "outputs": [
    {
     "data": {
      "text/plain": [
       "tensor([44, 11, 11,  9])"
      ]
     },
     "execution_count": 49,
     "metadata": {},
     "output_type": "execute_result"
    }
   ],
   "source": [
    "# labels are in encoding\n",
    "test_tokens[3][0]"
   ]
  },
  {
   "cell_type": "code",
   "execution_count": 50,
   "metadata": {},
   "outputs": [
    {
     "name": "stdout",
     "output_type": "stream",
     "text": [
      "torch.Size([19, 512]) torch.Size([19, 512]) torch.Size([19, 512])\n"
     ]
    }
   ],
   "source": [
    "# wowzas the tensors have 512 tokens and not 2100!!\n",
    "test_input_id = truncate_mid(test_tokens[0][0])\n",
    "test_token_type_id = truncate_mid(test_tokens[1][0])\n",
    "test_attention_mask = truncate_mid(test_tokens[2][0])\n",
    "print(test_input_id.size(), test_token_type_id.size(), test_attention_mask.size())"
   ]
  },
  {
   "cell_type": "code",
   "execution_count": 51,
   "metadata": {},
   "outputs": [],
   "source": [
    "_, test_pred = test_bert(input_ids=test_input_id, token_type_ids=test_token_type_id, attention_mask=test_attention_mask, return_dict=False)"
   ]
  },
  {
   "cell_type": "code",
   "execution_count": 52,
   "metadata": {},
   "outputs": [
    {
     "data": {
      "text/plain": [
       "(19, torch.Tensor)"
      ]
     },
     "execution_count": 52,
     "metadata": {},
     "output_type": "execute_result"
    }
   ],
   "source": [
    "len(test_pred), type(test_pred)"
   ]
  },
  {
   "cell_type": "code",
   "execution_count": 53,
   "metadata": {},
   "outputs": [
    {
     "data": {
      "text/plain": [
       "torch.Size([19, 768])"
      ]
     },
     "execution_count": 53,
     "metadata": {},
     "output_type": "execute_result"
    }
   ],
   "source": [
    "test_pred.size()"
   ]
  },
  {
   "cell_type": "code",
   "execution_count": 54,
   "metadata": {},
   "outputs": [
    {
     "data": {
      "text/plain": [
       "['Optimal Weapon', 'Stigma (T)', 'Stigma (M)', 'Stigma (B)']"
      ]
     },
     "execution_count": 54,
     "metadata": {},
     "output_type": "execute_result"
    }
   ],
   "source": [
    "experimental_dataloader.dataset.labels"
   ]
  },
  {
   "cell_type": "code",
   "execution_count": 55,
   "metadata": {},
   "outputs": [],
   "source": [
    "# now plug into a linear layer that classifies into our labels!!\n",
    "from torch.nn import Linear, Dropout, ReLU\n",
    "classifier_layer = Linear(in_features=768, out_features=len(experimental_dataloader.dataset.labels))\n",
    "dropout_layer = Dropout(0.5)\n",
    "activation_layer = ReLU()"
   ]
  },
  {
   "cell_type": "code",
   "execution_count": 56,
   "metadata": {},
   "outputs": [
    {
     "name": "stdout",
     "output_type": "stream",
     "text": [
      "Dropout Output Size: torch.Size([19, 768])\n",
      "ReLU Output Size: torch.Size([19, 768])\n",
      "Logit Size: torch.Size([19, 4]), First Row Results: tensor([0.0368, 0.0221, 0.0326, 0.0505])\n",
      "Prediction Size: torch.Size([4]), Results: tensor([ 3, 14, 14, 11]), Translated: ['Banquet Rose', 'Fu Hua: Margrave (T)', 'Fu Hua: Margrave (M)', 'Elysia: Pristine (B)']\n",
      "Actual Labels: ['Vacation Notice', 'Day After Day (T)', 'Day After Day (M)', 'Day After Day (B)']\n",
      "Actual (Encoded) Labels: [44, 11, 11, 9]\n",
      "Prediction Converted Back (to Encoding): [3, 14, 14, 11]\n"
     ]
    }
   ],
   "source": [
    "with torch.inference_mode():\n",
    "    dropout_output = dropout_layer(test_pred)\n",
    "    print(f\"Dropout Output Size: {dropout_output.size()}\")\n",
    "    relu_output = activation_layer(dropout_output)\n",
    "    print(F\"ReLU Output Size: {relu_output.size()}\")\n",
    "    \n",
    "    result_logits = torch.softmax(classifier_layer(dropout_output), dim=0) #column-wise\n",
    "    print(f\"Logit Size: {result_logits.size()}, First Row Results: {result_logits[0]}\")\n",
    "    \n",
    "    result_preds = torch.argmax(result_logits, dim=0)\n",
    "    eng_preds = experimental_dataloader.dataset.arr2label(result_preds)\n",
    "    print(f\"Prediction Size: {result_preds.size()}, Results: {result_preds}, Translated: {eng_preds}\")\n",
    "    \n",
    "    actual_labels = experimental_dataloader.dataset.arr2label(test_tokens[3][0])\n",
    "    print(f\"Actual Labels: {actual_labels}\")\n",
    "    \n",
    "    actual_encoded_labels = experimental_dataloader.dataset.label2arr(actual_labels)\n",
    "    print(f\"Actual (Encoded) Labels: {actual_encoded_labels}\")\n",
    "    # converted back\n",
    "    print(\"Prediction Converted Back (to Encoding): \", end=\"\")\n",
    "    print(experimental_dataloader.dataset.label2arr(eng_preds))"
   ]
  },
  {
   "cell_type": "markdown",
   "metadata": {},
   "source": [
    "## 4. Define AI model"
   ]
  },
  {
   "cell_type": "code",
   "execution_count": 58,
   "metadata": {},
   "outputs": [],
   "source": [
    "from torch import nn\n",
    "from tqdm import tqdm\n",
    "from torchmetrics.classification import MulticlassF1Score, MulticlassAccuracy\n",
    "from transformers import BertModel\n",
    "\n",
    "class BertClassifier(nn.Module):\n",
    "    \n",
    "    available_models = [ # there's more but these are sufficient\n",
    "        \"bert-base-uncased\",\n",
    "        \"bert-large-uncased\",\n",
    "        \"bert-base-multilingual-uncased\",\n",
    "        \"bert-large-uncased-whole-word-masking\",\n",
    "        \"bert-base-cased\",\n",
    "        \"bert-large-cased\",\n",
    "        \"bert-base-multilingual-cased\",\n",
    "        \"bert-large-cased-whole-word-masking\"\n",
    "    ]\n",
    "    \n",
    "    def __init__(\n",
    "            self,\n",
    "            dropout: float,\n",
    "            features: int,\n",
    "            labels: int,\n",
    "            max_seq_len:int = 128,\n",
    "            model=\"bert-base-uncased\",\n",
    "            device=\"cuda\"\n",
    "        ):\n",
    "        \"\"\"\n",
    "        Parameters:\n",
    "        dropout: The percentage of information to remove from model in training\n",
    "        features: The number of features for the model to train on\n",
    "        labels: The number of labels for the model to predict\n",
    "        model: The pretrained (BERT) model from HuggingFace to use\n",
    "        \"\"\"\n",
    "        super().__init__()\n",
    "        \n",
    "        assert model in self.available_models # make sure the model is valid\n",
    "        \n",
    "        self.bert = BertModel.from_pretrained(model, torch_dtype=torch.float32) # cant use fp16 unless data is also fp16\n",
    "        self.tokenizer = BertTokenizerFast.from_pretrained(model)\n",
    "        self.seq_len = max_seq_len\n",
    "        \n",
    "        self.LABELS = labels\n",
    "        \n",
    "        # metrics\n",
    "        self.f1 = MulticlassF1Score(self.LABELS)\n",
    "        self.accuracy = MulticlassAccuracy(self.LABELS)\n",
    "        \n",
    "        for param in self.bert.parameters(): # dont train bert\n",
    "            param.requires_grad = False # orig required_grade\n",
    "            \n",
    "        self.dropout = nn.Dropout(dropout)\n",
    "        self.activation = nn.ReLU()\n",
    "        self.linear = nn.Linear(features, self.LABELS) #features, labels\n",
    "        self.device = device if torch.cuda.is_available() else \"cpu\"\n",
    "    \n",
    "    def forward(\n",
    "            self,\n",
    "            input_ids,\n",
    "            token_type_ids,\n",
    "            attention_mask\n",
    "        ):\n",
    "        _, bert_output = self.bert(\n",
    "            input_ids = input_ids,\n",
    "            token_type_ids = token_type_ids,\n",
    "            attention_mask = attention_mask,\n",
    "            return_dict = False\n",
    "        )\n",
    "        \n",
    "        dropout_output = self.activation(self.dropout(bert_output))\n",
    "        final_output = self.linear(dropout_output)\n",
    "        \n",
    "        return final_output\n",
    "    \n",
    "    \n",
    "    def train_model(\n",
    "            self,\n",
    "            train_loader: torch.utils.data.DataLoader,\n",
    "            valid_loader: torch.utils.data.DataLoader,\n",
    "            loss_fn,\n",
    "            optimizer: torch.optim.Optimizer,\n",
    "            batch_size: int,\n",
    "            num_epochs: int,\n",
    "            model_path: str\n",
    "        ):\n",
    "        \"\"\"\n",
    "        train_loader: Data loader for train dataset\n",
    "        valid_loader: Data loader for validation dataset\n",
    "        loss_fn: Loss function\n",
    "        optimizer: Optimizer\n",
    "        num_epochs: Number of epochs\n",
    "        model_path: Path to save the model\n",
    "        \"\"\"\n",
    "        best_loss = 1e8 #0.00000001\n",
    "        best_f1 = 0\n",
    "        for i in range(num_epochs):\n",
    "            print(f\"Epoch {i+1}/{num_epochs}\")\n",
    "            valid_loss, train_loss, f1_valid = [], [], []\n",
    "            \n",
    "            self.train()\n",
    "            # train loop\n",
    "            for input_ids, token_type_ids, attention_masks, batch_labels in tqdm(train_loader):\n",
    "                # move to gpu\n",
    "                input_ids = input_ids.to(self.device)\n",
    "                token_type_ids = token_type_ids.to(self.device)\n",
    "                attention_masks = attention_masks.to(self.device)\n",
    "                batch_labels = batch_labels.to(self.device)\n",
    "                \n",
    "                for batch in range(batch_size):                    \n",
    "                    # truncate tokens\n",
    "                    input_id = truncate_mid(input_ids[batch])\n",
    "                    token_type_id = truncate_mid(token_type_ids[batch])\n",
    "                    attention_mask = truncate_mid(attention_masks[batch])\n",
    "                                        \n",
    "                    # forward pass\n",
    "                    batch_output = self.forward( # logits\n",
    "                        input_ids = input_id,\n",
    "                        token_type_ids = token_type_id,\n",
    "                        attention_mask = attention_mask\n",
    "                    )\n",
    "\n",
    "                    y_preds = torch.softmax(batch_output, dim=0).argmax(dim=0) # encoded numbers like [12, 5, 6, 11]\n",
    "                    \n",
    "                    # calculate loss\n",
    "                    loss = loss_fn(batch_output, batch_labels[batch])\n",
    "                    train_loss.append(loss.item())\n",
    "                    optimizer.zero_grad()\n",
    "\n",
    "                    loss.backward()\n",
    "                    \n",
    "                    optimizer.step()\n",
    "                \n",
    "                \n",
    "            self.eval()\n",
    "            # validation loop\n",
    "            for input_ids, token_type_ids, attention_masks, batch_labels in tqdm(valid_loader):\n",
    "                # move to gpu\n",
    "                input_ids = input_ids.to(self.device)\n",
    "                token_type_ids = token_type_ids.to(self.device)\n",
    "                attention_masks = attention_masks.to(self.device)\n",
    "                batch_labels = batch_labels.to(self.device)\n",
    "                \n",
    "                for batch in range(batch_size):                    \n",
    "                    # truncate tokens\n",
    "                    input_id = truncate_mid(input_ids[batch])\n",
    "                    token_type_id = truncate_mid(token_type_ids[batch])\n",
    "                    attention_mask = truncate_mid(attention_masks[batch])\n",
    "                    \n",
    "                    with torch.inference_mode():\n",
    "                        # forward pass\n",
    "                        batch_output = self.forward( # logits\n",
    "                            input_ids = input_id,\n",
    "                            token_type_ids = token_type_id,\n",
    "                            attention_mask = attention_mask\n",
    "                        )\n",
    "\n",
    "                        y_preds = torch.softmax(batch_output, dim=0).argmax(dim=0) # encoded numbers like [12, 5, 6, 11]\n",
    "                        \n",
    "                        # calculate loss\n",
    "                        f1_valid.append(self.f1(y_preds, batch_labels[batch]).item())\n",
    "                        valid_loss.append(loss_fn(batch_output, batch_labels[batch]).item())\n",
    "                \n",
    "            t_loss = np.mean(train_loss)  # avg training loss\n",
    "            v_loss = np.mean(valid_loss)  # avg validation loss\n",
    "            f1_valid_avg = np.mean(f1_valid)\n",
    "            \n",
    "            print(f\"Train Loss: {t_loss:.2%}, Validation Loss: {v_loss:.2%}, F1 Score (Validation): {f1_valid_avg:.2f}\")\n",
    "            if v_loss < best_loss:\n",
    "                best_loss = v_loss\n",
    "                # save model if lower validation loss\n",
    "                torch.save(self.bert.state_dict(), model_path)\n",
    "            \n",
    "            if f1_valid_avg > best_f1:\n",
    "                best_f1 = f1_valid_avg\n",
    "                \n",
    "        print(f\"Best Validation Loss [0, 100]: {best_loss:.2%}, Best F1 Score [0, 1]: {best_f1:.2f}\")\n",
    "    \n",
    "    \n",
    "    def test_model(\n",
    "            self,\n",
    "            test_loader: torch.utils.data.DataLoader,\n",
    "            loss_fn,\n",
    "            batch_size: int\n",
    "        ):\n",
    "        \"\"\"\n",
    "        Function to test the model\n",
    "         test_loader: Data loader for test dataset\n",
    "         model: Model object\n",
    "         loss_fn: Loss function\n",
    "         batch_size: Preferred batch size\n",
    "        \"\"\"\n",
    "        self.eval()\n",
    "        test_loss, test_acc, f1_score = [], [], []\n",
    "        \n",
    "        for input_ids, token_type_ids, attention_masks, batch_labels in tqdm(test_loader):\n",
    "            # move to gpu\n",
    "            input_ids = input_ids.to(self.device)\n",
    "            token_type_ids = token_type_ids.to(self.device)\n",
    "            attention_masks = attention_masks.to(self.device)\n",
    "            batch_labels = batch_labels.to(self.device)\n",
    "            \n",
    "            for batch in range(batch_size):                \n",
    "                input_id = truncate_mid(input_ids[batch])\n",
    "                token_type_id = truncate_mid(token_type_ids[batch])\n",
    "                attention_mask = truncate_mid(attention_masks[batch])\n",
    "                \n",
    "                # forward pass\n",
    "                batch_output = self.forward(\n",
    "                    input_ids = input_id,\n",
    "                    token_type_ids = token_type_id,\n",
    "                    attention_mask = attention_mask\n",
    "                )                \n",
    "                \n",
    "                # calculate loss\n",
    "                loss = loss_fn(batch_output, batch_labels[batch])\n",
    "                test_loss.append(loss.item())\n",
    "                y_preds = torch.softmax(batch_output, dim=0).argmax(dim=0)\n",
    "                    \n",
    "                # calculate accuracy\n",
    "                test_acc.append(self.accuracy(y_preds, batch_labels[batch]).item())\n",
    "            \n",
    "                f1_score.append(self.f1(y_preds, batch_labels[batch].item()))\n",
    "                \n",
    "        test_loss = np.mean(test_loss)\n",
    "        test_acc = np.mean(test_acc)\n",
    "        avg_f1 = np.mean(f1_score)\n",
    "        \n",
    "        print(f\"Test Loss: {test_loss:.2%}, Test Accuracy: {test_acc:.2%}, Average F1-Score: {avg_f1:.2f}\")\n",
    "    \n",
    "    def predict(\n",
    "            self,\n",
    "            features: pd.DataFrame | np.ndarray | list,\n",
    "            label_encoders: list\n",
    "        ) -> list[str, str, str, str]:\n",
    "        prediction = []\n",
    "        \n",
    "        if isinstance(features, pd.DataFrame):\n",
    "            features = features.copy().to_numpy().tolist()\n",
    "        elif isinstance(features, np.ndarray):\n",
    "            features = features.tolist()\n",
    "        \n",
    "        self.eval()\n",
    "        \n",
    "        tokens = self.tokenizer(\n",
    "            features,\n",
    "            padding=\"max_length\",\n",
    "            max_length=MAX_LEN,\n",
    "            truncation=True,\n",
    "            return_tensors=\"pt\"\n",
    "        )\n",
    "        \n",
    "        input_id = tokens[\"input_ids\"].to(self.device)\n",
    "        token_type_id = tokens[\"token_type_ids\"].to(self.device)\n",
    "        attention_mask = tokens[\"attention_mask\"].to(self.device)\n",
    "        \n",
    "        input_id = truncate_mid(input_id)\n",
    "        token_type_id = truncate_mid(token_type_id)\n",
    "        attention_mask = truncate_mid(attention_mask)\n",
    "        \n",
    "        with torch.inference_mode():\n",
    "            out = self.forward(input_id, token_type_id, attention_mask)\n",
    "            y_preds = torch.softmax(out, dim=0).argmax(dim=0)\n",
    "            for y_pred, label_encoder in zip(y_preds, label_encoders):\n",
    "                prediction.append(label_encoder.inverse_transform(y_pred.numpy()))\n",
    "            \n",
    "        return prediction"
   ]
  },
  {
   "cell_type": "code",
   "execution_count": 59,
   "metadata": {},
   "outputs": [],
   "source": [
    "# model setup\n",
    "LABELS = len(train_dataloader.dataset.labels) # ['Optimal Weapon', 'Stigma (T)', 'Stigma (M)', 'Stigma (B)']\n",
    "model = BertClassifier(DROPOUT, FEATURES, LABELS)\n",
    "\n",
    "loss = torch.nn.CrossEntropyLoss()\n",
    "\n",
    "optimizer = torch.optim.SGD(model.parameters(), lr=LEARNING_RATE)\n",
    "\n",
    "# to gpu if applicable\n",
    "model = model.to(device)\n",
    "loss = loss.to(device)"
   ]
  },
  {
   "cell_type": "code",
   "execution_count": 60,
   "metadata": {},
   "outputs": [
    {
     "name": "stdout",
     "output_type": "stream",
     "text": [
      "Epoch 1/10\n"
     ]
    },
    {
     "name": "stderr",
     "output_type": "stream",
     "text": [
      "  0%|          | 0/26 [00:00<?, ?it/s]"
     ]
    },
    {
     "name": "stderr",
     "output_type": "stream",
     "text": [
      "  0%|          | 0/26 [00:03<?, ?it/s]\n"
     ]
    },
    {
     "ename": "RuntimeError",
     "evalue": "mat1 and mat2 shapes cannot be multiplied (19x768 and 15x4)",
     "output_type": "error",
     "traceback": [
      "\u001b[31m---------------------------------------------------------------------------\u001b[39m",
      "\u001b[31mRuntimeError\u001b[39m                              Traceback (most recent call last)",
      "\u001b[36mCell\u001b[39m\u001b[36m \u001b[39m\u001b[32mIn[60]\u001b[39m\u001b[32m, line 1\u001b[39m\n\u001b[32m----> \u001b[39m\u001b[32m1\u001b[39m \u001b[43mmodel\u001b[49m\u001b[43m.\u001b[49m\u001b[43mtrain_model\u001b[49m\u001b[43m(\u001b[49m\u001b[43mtrain_dataloader\u001b[49m\u001b[43m,\u001b[49m\u001b[43m \u001b[49m\u001b[43mvalid_dataloader\u001b[49m\u001b[43m,\u001b[49m\u001b[43m \u001b[49m\u001b[43mloss\u001b[49m\u001b[43m,\u001b[49m\u001b[43m \u001b[49m\u001b[43moptimizer\u001b[49m\u001b[43m,\u001b[49m\u001b[43m \u001b[49m\u001b[43mBATCH_SIZE\u001b[49m\u001b[43m,\u001b[49m\u001b[43m \u001b[49m\u001b[43mEPOCHS\u001b[49m\u001b[43m,\u001b[49m\u001b[43m \u001b[49m\u001b[33;43m\"\u001b[39;49m\u001b[33;43mhi3builds.pth\u001b[39;49m\u001b[33;43m\"\u001b[39;49m\u001b[43m)\u001b[49m\n",
      "\u001b[36mCell\u001b[39m\u001b[36m \u001b[39m\u001b[32mIn[58]\u001b[39m\u001b[32m, line 116\u001b[39m, in \u001b[36mBertClassifier.train_model\u001b[39m\u001b[34m(self, train_loader, valid_loader, loss_fn, optimizer, batch_size, num_epochs, model_path)\u001b[39m\n\u001b[32m    113\u001b[39m attention_mask = truncate_mid(attention_masks[batch])\n\u001b[32m    115\u001b[39m \u001b[38;5;66;03m# forward pass\u001b[39;00m\n\u001b[32m--> \u001b[39m\u001b[32m116\u001b[39m batch_output = \u001b[38;5;28;43mself\u001b[39;49m\u001b[43m.\u001b[49m\u001b[43mforward\u001b[49m\u001b[43m(\u001b[49m\u001b[43m \u001b[49m\u001b[38;5;66;43;03m# logits\u001b[39;49;00m\n\u001b[32m    117\u001b[39m \u001b[43m    \u001b[49m\u001b[43minput_ids\u001b[49m\u001b[43m \u001b[49m\u001b[43m=\u001b[49m\u001b[43m \u001b[49m\u001b[43minput_id\u001b[49m\u001b[43m,\u001b[49m\n\u001b[32m    118\u001b[39m \u001b[43m    \u001b[49m\u001b[43mtoken_type_ids\u001b[49m\u001b[43m \u001b[49m\u001b[43m=\u001b[49m\u001b[43m \u001b[49m\u001b[43mtoken_type_id\u001b[49m\u001b[43m,\u001b[49m\n\u001b[32m    119\u001b[39m \u001b[43m    \u001b[49m\u001b[43mattention_mask\u001b[49m\u001b[43m \u001b[49m\u001b[43m=\u001b[49m\u001b[43m \u001b[49m\u001b[43mattention_mask\u001b[49m\n\u001b[32m    120\u001b[39m \u001b[43m\u001b[49m\u001b[43m)\u001b[49m\n\u001b[32m    122\u001b[39m y_preds = torch.softmax(batch_output, dim=\u001b[32m0\u001b[39m).argmax(dim=\u001b[32m0\u001b[39m) \u001b[38;5;66;03m# encoded numbers like [12, 5, 6, 11]\u001b[39;00m\n\u001b[32m    124\u001b[39m \u001b[38;5;66;03m# calculate loss\u001b[39;00m\n",
      "\u001b[36mCell\u001b[39m\u001b[36m \u001b[39m\u001b[32mIn[58]\u001b[39m\u001b[32m, line 71\u001b[39m, in \u001b[36mBertClassifier.forward\u001b[39m\u001b[34m(self, input_ids, token_type_ids, attention_mask)\u001b[39m\n\u001b[32m     63\u001b[39m _, bert_output = \u001b[38;5;28mself\u001b[39m.bert(\n\u001b[32m     64\u001b[39m     input_ids = input_ids,\n\u001b[32m     65\u001b[39m     token_type_ids = token_type_ids,\n\u001b[32m     66\u001b[39m     attention_mask = attention_mask,\n\u001b[32m     67\u001b[39m     return_dict = \u001b[38;5;28;01mFalse\u001b[39;00m\n\u001b[32m     68\u001b[39m )\n\u001b[32m     70\u001b[39m dropout_output = \u001b[38;5;28mself\u001b[39m.activation(\u001b[38;5;28mself\u001b[39m.dropout(bert_output))\n\u001b[32m---> \u001b[39m\u001b[32m71\u001b[39m final_output = \u001b[38;5;28;43mself\u001b[39;49m\u001b[43m.\u001b[49m\u001b[43mlinear\u001b[49m\u001b[43m(\u001b[49m\u001b[43mdropout_output\u001b[49m\u001b[43m)\u001b[49m\n\u001b[32m     73\u001b[39m \u001b[38;5;28;01mreturn\u001b[39;00m final_output\n",
      "\u001b[36mFile \u001b[39m\u001b[32m~/miniconda3/envs/honkai_builds/lib/python3.13/site-packages/torch/nn/modules/module.py:1739\u001b[39m, in \u001b[36mModule._wrapped_call_impl\u001b[39m\u001b[34m(self, *args, **kwargs)\u001b[39m\n\u001b[32m   1737\u001b[39m     \u001b[38;5;28;01mreturn\u001b[39;00m \u001b[38;5;28mself\u001b[39m._compiled_call_impl(*args, **kwargs)  \u001b[38;5;66;03m# type: ignore[misc]\u001b[39;00m\n\u001b[32m   1738\u001b[39m \u001b[38;5;28;01melse\u001b[39;00m:\n\u001b[32m-> \u001b[39m\u001b[32m1739\u001b[39m     \u001b[38;5;28;01mreturn\u001b[39;00m \u001b[38;5;28;43mself\u001b[39;49m\u001b[43m.\u001b[49m\u001b[43m_call_impl\u001b[49m\u001b[43m(\u001b[49m\u001b[43m*\u001b[49m\u001b[43margs\u001b[49m\u001b[43m,\u001b[49m\u001b[43m \u001b[49m\u001b[43m*\u001b[49m\u001b[43m*\u001b[49m\u001b[43mkwargs\u001b[49m\u001b[43m)\u001b[49m\n",
      "\u001b[36mFile \u001b[39m\u001b[32m~/miniconda3/envs/honkai_builds/lib/python3.13/site-packages/torch/nn/modules/module.py:1750\u001b[39m, in \u001b[36mModule._call_impl\u001b[39m\u001b[34m(self, *args, **kwargs)\u001b[39m\n\u001b[32m   1745\u001b[39m \u001b[38;5;66;03m# If we don't have any hooks, we want to skip the rest of the logic in\u001b[39;00m\n\u001b[32m   1746\u001b[39m \u001b[38;5;66;03m# this function, and just call forward.\u001b[39;00m\n\u001b[32m   1747\u001b[39m \u001b[38;5;28;01mif\u001b[39;00m \u001b[38;5;129;01mnot\u001b[39;00m (\u001b[38;5;28mself\u001b[39m._backward_hooks \u001b[38;5;129;01mor\u001b[39;00m \u001b[38;5;28mself\u001b[39m._backward_pre_hooks \u001b[38;5;129;01mor\u001b[39;00m \u001b[38;5;28mself\u001b[39m._forward_hooks \u001b[38;5;129;01mor\u001b[39;00m \u001b[38;5;28mself\u001b[39m._forward_pre_hooks\n\u001b[32m   1748\u001b[39m         \u001b[38;5;129;01mor\u001b[39;00m _global_backward_pre_hooks \u001b[38;5;129;01mor\u001b[39;00m _global_backward_hooks\n\u001b[32m   1749\u001b[39m         \u001b[38;5;129;01mor\u001b[39;00m _global_forward_hooks \u001b[38;5;129;01mor\u001b[39;00m _global_forward_pre_hooks):\n\u001b[32m-> \u001b[39m\u001b[32m1750\u001b[39m     \u001b[38;5;28;01mreturn\u001b[39;00m \u001b[43mforward_call\u001b[49m\u001b[43m(\u001b[49m\u001b[43m*\u001b[49m\u001b[43margs\u001b[49m\u001b[43m,\u001b[49m\u001b[43m \u001b[49m\u001b[43m*\u001b[49m\u001b[43m*\u001b[49m\u001b[43mkwargs\u001b[49m\u001b[43m)\u001b[49m\n\u001b[32m   1752\u001b[39m result = \u001b[38;5;28;01mNone\u001b[39;00m\n\u001b[32m   1753\u001b[39m called_always_called_hooks = \u001b[38;5;28mset\u001b[39m()\n",
      "\u001b[36mFile \u001b[39m\u001b[32m~/miniconda3/envs/honkai_builds/lib/python3.13/site-packages/torch/nn/modules/linear.py:125\u001b[39m, in \u001b[36mLinear.forward\u001b[39m\u001b[34m(self, input)\u001b[39m\n\u001b[32m    124\u001b[39m \u001b[38;5;28;01mdef\u001b[39;00m\u001b[38;5;250m \u001b[39m\u001b[34mforward\u001b[39m(\u001b[38;5;28mself\u001b[39m, \u001b[38;5;28minput\u001b[39m: Tensor) -> Tensor:\n\u001b[32m--> \u001b[39m\u001b[32m125\u001b[39m     \u001b[38;5;28;01mreturn\u001b[39;00m \u001b[43mF\u001b[49m\u001b[43m.\u001b[49m\u001b[43mlinear\u001b[49m\u001b[43m(\u001b[49m\u001b[38;5;28;43minput\u001b[39;49m\u001b[43m,\u001b[49m\u001b[43m \u001b[49m\u001b[38;5;28;43mself\u001b[39;49m\u001b[43m.\u001b[49m\u001b[43mweight\u001b[49m\u001b[43m,\u001b[49m\u001b[43m \u001b[49m\u001b[38;5;28;43mself\u001b[39;49m\u001b[43m.\u001b[49m\u001b[43mbias\u001b[49m\u001b[43m)\u001b[49m\n",
      "\u001b[31mRuntimeError\u001b[39m: mat1 and mat2 shapes cannot be multiplied (19x768 and 15x4)"
     ]
    }
   ],
   "source": [
    "model.train_model(train_dataloader, valid_dataloader, loss, optimizer, BATCH_SIZE, EPOCHS, \"hi3builds.pth\")"
   ]
  },
  {
   "cell_type": "code",
   "execution_count": null,
   "metadata": {},
   "outputs": [],
   "source": [
    "model.test(test_dataloader, loss, device)"
   ]
  },
  {
   "cell_type": "markdown",
   "metadata": {},
   "source": [
    "## 5. Validate the model with the validation datasets"
   ]
  },
  {
   "cell_type": "markdown",
   "metadata": {},
   "source": [
    "## 6. Make a prediction with a new character"
   ]
  }
 ],
 "metadata": {
  "kernelspec": {
   "display_name": "honkai_builds",
   "language": "python",
   "name": "python3"
  },
  "language_info": {
   "codemirror_mode": {
    "name": "ipython",
    "version": 3
   },
   "file_extension": ".py",
   "mimetype": "text/x-python",
   "name": "python",
   "nbconvert_exporter": "python",
   "pygments_lexer": "ipython3",
   "version": "undefined.undefined.undefined"
  }
 },
 "nbformat": 4,
 "nbformat_minor": 2
}
